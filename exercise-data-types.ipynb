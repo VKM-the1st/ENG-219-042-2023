{
 "cells": [
  {
   "cell_type": "markdown",
   "id": "200459fe",
   "metadata": {
    "papermill": {
     "duration": 0.00617,
     "end_time": "2025-04-02T00:17:11.971833",
     "exception": false,
     "start_time": "2025-04-02T00:17:11.965663",
     "status": "completed"
    },
    "tags": []
   },
   "source": [
    "**This notebook is an exercise in the [Intro to Programming](https://www.kaggle.com/learn/intro-to-programming) course.  You can reference the tutorial at [this link](https://www.kaggle.com/alexisbcook/data-types).**\n",
    "\n",
    "---\n"
   ]
  },
  {
   "cell_type": "markdown",
   "id": "3467674d",
   "metadata": {
    "papermill": {
     "duration": 0.004935,
     "end_time": "2025-04-02T00:17:11.982299",
     "exception": false,
     "start_time": "2025-04-02T00:17:11.977364",
     "status": "completed"
    },
    "tags": []
   },
   "source": [
    "In the tutorial, you learned about four different data types: floats, integers, strings, and booleans.  In this exercise, you'll experiment with them.\n",
    "\n",
    "# Set up the notebook\n",
    "\n",
    "Run the next code cell without changes to set up the notebook."
   ]
  },
  {
   "cell_type": "code",
   "execution_count": 1,
   "id": "4fab3670",
   "metadata": {
    "execution": {
     "iopub.execute_input": "2025-04-02T00:17:11.994130Z",
     "iopub.status.busy": "2025-04-02T00:17:11.993723Z",
     "iopub.status.idle": "2025-04-02T00:17:13.034540Z",
     "shell.execute_reply": "2025-04-02T00:17:13.033250Z"
    },
    "papermill": {
     "duration": 1.049024,
     "end_time": "2025-04-02T00:17:13.036602",
     "exception": false,
     "start_time": "2025-04-02T00:17:11.987578",
     "status": "completed"
    },
    "tags": []
   },
   "outputs": [
    {
     "name": "stdout",
     "output_type": "stream",
     "text": [
      "Setup complete.\n"
     ]
    }
   ],
   "source": [
    "# Set up the exercise\n",
    "from learntools.core import binder\n",
    "binder.bind(globals())\n",
    "from learntools.intro_to_programming.ex3 import *\n",
    "print('Setup complete.')"
   ]
  },
  {
   "cell_type": "markdown",
   "id": "5636ed30",
   "metadata": {
    "papermill": {
     "duration": 0.005004,
     "end_time": "2025-04-02T00:17:13.047344",
     "exception": false,
     "start_time": "2025-04-02T00:17:13.042340",
     "status": "completed"
    },
    "tags": []
   },
   "source": [
    "# Question 1\n",
    "\n",
    "You have seen how to convert a float to an integer with the `int` function.  Try this out yourself by running the code cell below."
   ]
  },
  {
   "cell_type": "code",
   "execution_count": 2,
   "id": "bcc69d0d",
   "metadata": {
    "execution": {
     "iopub.execute_input": "2025-04-02T00:17:13.059677Z",
     "iopub.status.busy": "2025-04-02T00:17:13.059196Z",
     "iopub.status.idle": "2025-04-02T00:17:13.065165Z",
     "shell.execute_reply": "2025-04-02T00:17:13.064137Z"
    },
    "papermill": {
     "duration": 0.014195,
     "end_time": "2025-04-02T00:17:13.066859",
     "exception": false,
     "start_time": "2025-04-02T00:17:13.052664",
     "status": "completed"
    },
    "tags": []
   },
   "outputs": [
    {
     "name": "stdout",
     "output_type": "stream",
     "text": [
      "1.0\n",
      "<class 'float'>\n",
      "1\n",
      "<class 'int'>\n"
     ]
    }
   ],
   "source": [
    "# Define a float\n",
    "y = 1.\n",
    "print(y)\n",
    "print(type(y))\n",
    "\n",
    "# Convert float to integer with the int function\n",
    "z = int(y)\n",
    "print(z)\n",
    "print(type(z))"
   ]
  },
  {
   "cell_type": "markdown",
   "id": "6fa05ed9",
   "metadata": {
    "papermill": {
     "duration": 0.005067,
     "end_time": "2025-04-02T00:17:13.077500",
     "exception": false,
     "start_time": "2025-04-02T00:17:13.072433",
     "status": "completed"
    },
    "tags": []
   },
   "source": [
    "In this case, the float you are using has no numbers after the decimal.  \n",
    "- But what happens when you try to convert a float with a fractional part to an integer?  \n",
    "- How does the outcome of the `int` function change for positive and negative numbers?\n",
    "\n",
    "Use the next code cell to investigate and answer these questions.  Feel free to add or remove any lines of code -- it is your workspace!"
   ]
  },
  {
   "cell_type": "code",
   "execution_count": 3,
   "id": "adc2ae8e",
   "metadata": {
    "execution": {
     "iopub.execute_input": "2025-04-02T00:17:13.089650Z",
     "iopub.status.busy": "2025-04-02T00:17:13.089284Z",
     "iopub.status.idle": "2025-04-02T00:17:13.094967Z",
     "shell.execute_reply": "2025-04-02T00:17:13.093727Z"
    },
    "papermill": {
     "duration": 0.013774,
     "end_time": "2025-04-02T00:17:13.096715",
     "exception": false,
     "start_time": "2025-04-02T00:17:13.082941",
     "status": "completed"
    },
    "tags": []
   },
   "outputs": [
    {
     "name": "stdout",
     "output_type": "stream",
     "text": [
      "1\n",
      "1\n",
      "-3\n",
      "-2\n"
     ]
    }
   ],
   "source": [
    "# Uncomment and run this code to get started!\n",
    "print(int(1.2321))\n",
    "print(int(1.747))\n",
    "print(int(-3.94535))\n",
    "print(int(-2.19774))"
   ]
  },
  {
   "cell_type": "markdown",
   "id": "d026e5ca",
   "metadata": {
    "papermill": {
     "duration": 0.005208,
     "end_time": "2025-04-02T00:17:13.107523",
     "exception": false,
     "start_time": "2025-04-02T00:17:13.102315",
     "status": "completed"
    },
    "tags": []
   },
   "source": [
    "Once you have an answer, run the code cell below to see the solution.  Viewing the solution will give you credit for answering the problem."
   ]
  },
  {
   "cell_type": "code",
   "execution_count": 4,
   "id": "624624e0",
   "metadata": {
    "execution": {
     "iopub.execute_input": "2025-04-02T00:17:13.119619Z",
     "iopub.status.busy": "2025-04-02T00:17:13.119267Z",
     "iopub.status.idle": "2025-04-02T00:17:13.127862Z",
     "shell.execute_reply": "2025-04-02T00:17:13.126891Z"
    },
    "papermill": {
     "duration": 0.016637,
     "end_time": "2025-04-02T00:17:13.129503",
     "exception": false,
     "start_time": "2025-04-02T00:17:13.112866",
     "status": "completed"
    },
    "tags": []
   },
   "outputs": [
    {
     "data": {
      "application/javascript": [
       "parent.postMessage({\"jupyterEvent\": \"custom.exercise_interaction\", \"data\": {\"outcomeType\": 1, \"valueTowardsCompletion\": 0.2, \"interactionType\": 1, \"questionType\": 4, \"questionId\": \"1_FloatToInt\", \"learnToolsVersion\": \"0.3.4\", \"failureMessage\": \"\", \"exceptionClass\": \"\", \"trace\": \"\"}}, \"*\")"
      ],
      "text/plain": [
       "<IPython.core.display.Javascript object>"
      ]
     },
     "metadata": {},
     "output_type": "display_data"
    },
    {
     "data": {
      "text/markdown": [
       "<span style=\"color:#33cc33\">Correct:</span> \n",
       "\n",
       "Negative floats are always rounded UP to the closest integer (for instance, both -1.1 and -1.9 are rounded up to -1). Positive floats are always rounded DOWN to the closest integer (for instance, 2.1 and 2.9 are rounded down to 2)."
      ],
      "text/plain": [
       "Correct: \n",
       "\n",
       "Negative floats are always rounded UP to the closest integer (for instance, both -1.1 and -1.9 are rounded up to -1). Positive floats are always rounded DOWN to the closest integer (for instance, 2.1 and 2.9 are rounded down to 2)."
      ]
     },
     "metadata": {},
     "output_type": "display_data"
    }
   ],
   "source": [
    "# Check your answer (Run this code cell to receive credit!)\n",
    "q1.check()"
   ]
  },
  {
   "cell_type": "markdown",
   "id": "3837d7d9",
   "metadata": {
    "papermill": {
     "duration": 0.005311,
     "end_time": "2025-04-02T00:17:13.140824",
     "exception": false,
     "start_time": "2025-04-02T00:17:13.135513",
     "status": "completed"
    },
    "tags": []
   },
   "source": [
    "# Question 2\n",
    "\n",
    "In the tutorial, you learned about booleans (which can take a value of `True` or `False`), in addition to integers, floats, and strings.  For this question, your goal is to determine what happens when you multiply a boolean by any of these data types.  Specifically, \n",
    "- What happens when you multiply an integer or float by `True`?  What happens when you multiply them by `False`?  How does the answer change if the numbers are positive or negative?\n",
    "- What happens when you multiply a string by `True`?  By `False`?\n",
    "\n",
    "Use the next code cell for your investigation. "
   ]
  },
  {
   "cell_type": "code",
   "execution_count": 5,
   "id": "f01f5331",
   "metadata": {
    "execution": {
     "iopub.execute_input": "2025-04-02T00:17:13.153620Z",
     "iopub.status.busy": "2025-04-02T00:17:13.153270Z",
     "iopub.status.idle": "2025-04-02T00:17:13.159315Z",
     "shell.execute_reply": "2025-04-02T00:17:13.157752Z"
    },
    "papermill": {
     "duration": 0.014432,
     "end_time": "2025-04-02T00:17:13.160871",
     "exception": false,
     "start_time": "2025-04-02T00:17:13.146439",
     "status": "completed"
    },
    "tags": []
   },
   "outputs": [
    {
     "name": "stdout",
     "output_type": "stream",
     "text": [
      "3\n",
      "-3.1\n",
      "<class 'str'>\n",
      "0\n"
     ]
    }
   ],
   "source": [
    "# Uncomment and run this code to get started!\n",
    "print(3 * True)\n",
    "print(-3.1 * True)\n",
    "print(type(\"abc\" * False))\n",
    "print(len(\"abc\" * False))"
   ]
  },
  {
   "cell_type": "markdown",
   "id": "5ec12e5e",
   "metadata": {
    "papermill": {
     "duration": 0.005419,
     "end_time": "2025-04-02T00:17:13.172277",
     "exception": false,
     "start_time": "2025-04-02T00:17:13.166858",
     "status": "completed"
    },
    "tags": []
   },
   "source": [
    "Once you have an answer, run the code cell below to see the solution.  Viewing the solution will give you credit for answering the problem."
   ]
  },
  {
   "cell_type": "code",
   "execution_count": 6,
   "id": "2edc048c",
   "metadata": {
    "execution": {
     "iopub.execute_input": "2025-04-02T00:17:13.184761Z",
     "iopub.status.busy": "2025-04-02T00:17:13.184411Z",
     "iopub.status.idle": "2025-04-02T00:17:13.191127Z",
     "shell.execute_reply": "2025-04-02T00:17:13.190204Z"
    },
    "papermill": {
     "duration": 0.014755,
     "end_time": "2025-04-02T00:17:13.192620",
     "exception": false,
     "start_time": "2025-04-02T00:17:13.177865",
     "status": "completed"
    },
    "tags": []
   },
   "outputs": [
    {
     "data": {
      "application/javascript": [
       "parent.postMessage({\"jupyterEvent\": \"custom.exercise_interaction\", \"data\": {\"outcomeType\": 1, \"valueTowardsCompletion\": 0.2, \"interactionType\": 1, \"questionType\": 4, \"questionId\": \"2_MultiplyBooleans\", \"learnToolsVersion\": \"0.3.4\", \"failureMessage\": \"\", \"exceptionClass\": \"\", \"trace\": \"\"}}, \"*\")"
      ],
      "text/plain": [
       "<IPython.core.display.Javascript object>"
      ]
     },
     "metadata": {},
     "output_type": "display_data"
    },
    {
     "data": {
      "text/markdown": [
       "<span style=\"color:#33cc33\">Correct:</span> \n",
       "\n",
       "When you multiple an integer or float by a boolean with value `True`, it just returns that same integer or float (and is equivalent to multiplying by 1).  If you multiply an integer or float by a boolean with value `False`, it always returns 0.  This is true for both positive and negative numbers.  If you multiply a string by a boolean with value `True`, it just returns that same string.  And if you multiply a string by a boolean with value `False`, it returns an empty string (or a string with length zero)."
      ],
      "text/plain": [
       "Correct: \n",
       "\n",
       "When you multiple an integer or float by a boolean with value `True`, it just returns that same integer or float (and is equivalent to multiplying by 1).  If you multiply an integer or float by a boolean with value `False`, it always returns 0.  This is true for both positive and negative numbers.  If you multiply a string by a boolean with value `True`, it just returns that same string.  And if you multiply a string by a boolean with value `False`, it returns an empty string (or a string with length zero)."
      ]
     },
     "metadata": {},
     "output_type": "display_data"
    }
   ],
   "source": [
    "# Check your answer (Run this code cell to receive credit!)\n",
    "q2.check()"
   ]
  },
  {
   "cell_type": "markdown",
   "id": "fdb22164",
   "metadata": {
    "papermill": {
     "duration": 0.0058,
     "end_time": "2025-04-02T00:17:13.204444",
     "exception": false,
     "start_time": "2025-04-02T00:17:13.198644",
     "status": "completed"
    },
    "tags": []
   },
   "source": [
    "# Question 3\n",
    "\n",
    "In this question, you will build off your work from the previous exercise to write a function that estimates the value of a house.\n",
    "\n",
    "Use the next code cell to create a function `get_expected_cost` that takes as input three variables:\n",
    "- `beds` - number of bedrooms (data type float)\n",
    "- `baths` - number of bathrooms (data type float)\n",
    "- `has_basement` - whether or not the house has a basement (data type boolean)\n",
    "\n",
    "It should return the expected cost of a house with those characteristics. Assume that:\n",
    "- the expected cost for a house with 0 bedrooms and 0 bathrooms, and no basement is 80000, \n",
    "- each bedroom adds 30000 to the expected cost,\n",
    "- each bathroom adds 10000 to the expected cost, and\n",
    "- a basement adds 40000 to the expected cost.\n",
    "\n",
    "For instance,\n",
    "- a house with 1 bedroom, 1 bathroom, and no basement has an expected cost of 80000 + 30000 + 10000 = 120000.  This value will be calculated with `get_expected_cost(1, 1, False)`.\n",
    "- a house with 2 bedrooms, 1 bathroom, and a basement has an expected cost of 80000 + 2*30000 + 10000 + 40000 = 190000.  This value will be calculated with `get_expected_cost(2, 1, True)`.\n",
    "\n",
    "Remember you can always get a hint by uncommenting `q3.hint()` in the code cell following the next!"
   ]
  },
  {
   "cell_type": "code",
   "execution_count": 7,
   "id": "ffc9f6c2",
   "metadata": {
    "execution": {
     "iopub.execute_input": "2025-04-02T00:17:13.217813Z",
     "iopub.status.busy": "2025-04-02T00:17:13.217368Z",
     "iopub.status.idle": "2025-04-02T00:17:13.225682Z",
     "shell.execute_reply": "2025-04-02T00:17:13.224783Z"
    },
    "papermill": {
     "duration": 0.016844,
     "end_time": "2025-04-02T00:17:13.227259",
     "exception": false,
     "start_time": "2025-04-02T00:17:13.210415",
     "status": "completed"
    },
    "tags": []
   },
   "outputs": [
    {
     "data": {
      "application/javascript": [
       "parent.postMessage({\"jupyterEvent\": \"custom.exercise_interaction\", \"data\": {\"outcomeType\": 1, \"valueTowardsCompletion\": 0.2, \"interactionType\": 1, \"questionType\": 2, \"questionId\": \"3_EstimateHouseValueBool\", \"learnToolsVersion\": \"0.3.4\", \"failureMessage\": \"\", \"exceptionClass\": \"\", \"trace\": \"\"}}, \"*\")"
      ],
      "text/plain": [
       "<IPython.core.display.Javascript object>"
      ]
     },
     "metadata": {},
     "output_type": "display_data"
    },
    {
     "data": {
      "text/markdown": [
       "<span style=\"color:#33cc33\">Correct</span>"
      ],
      "text/plain": [
       "Correct"
      ]
     },
     "metadata": {},
     "output_type": "display_data"
    }
   ],
   "source": [
    "# TODO: Complete the function\n",
    "def get_expected_cost(beds, baths, has_basement):\n",
    "    value =  80000 + 30000 * beds + 10000 * baths + 40000 * has_basement \n",
    "    return value\n",
    "\n",
    "# Check your answer \n",
    "q3.check()"
   ]
  },
  {
   "cell_type": "code",
   "execution_count": 8,
   "id": "d17c6885",
   "metadata": {
    "execution": {
     "iopub.execute_input": "2025-04-02T00:17:13.241579Z",
     "iopub.status.busy": "2025-04-02T00:17:13.241241Z",
     "iopub.status.idle": "2025-04-02T00:17:13.245089Z",
     "shell.execute_reply": "2025-04-02T00:17:13.244010Z"
    },
    "papermill": {
     "duration": 0.012953,
     "end_time": "2025-04-02T00:17:13.247021",
     "exception": false,
     "start_time": "2025-04-02T00:17:13.234068",
     "status": "completed"
    },
    "tags": []
   },
   "outputs": [],
   "source": [
    "# Uncomment to see a hint\n",
    "#q3.hint()\n",
    "\n",
    "# Uncomment to view the solution\n",
    "#q3.solution()"
   ]
  },
  {
   "cell_type": "markdown",
   "id": "1334bd55",
   "metadata": {
    "papermill": {
     "duration": 0.006032,
     "end_time": "2025-04-02T00:17:13.259653",
     "exception": false,
     "start_time": "2025-04-02T00:17:13.253621",
     "status": "completed"
    },
    "tags": []
   },
   "source": [
    "# Question 4\n",
    "\n",
    "We'll continue our study of boolean arithmetic.  For this question, your task is to provide a description of what happpens when you add booleans. \n",
    "\n",
    "Use the next code cell for your investigation.  Feel free to add or remove any lines of code - use it as your workspace!"
   ]
  },
  {
   "cell_type": "code",
   "execution_count": 9,
   "id": "fad45a35",
   "metadata": {
    "execution": {
     "iopub.execute_input": "2025-04-02T00:17:13.273763Z",
     "iopub.status.busy": "2025-04-02T00:17:13.273420Z",
     "iopub.status.idle": "2025-04-02T00:17:13.280335Z",
     "shell.execute_reply": "2025-04-02T00:17:13.279260Z"
    },
    "papermill": {
     "duration": 0.015848,
     "end_time": "2025-04-02T00:17:13.282071",
     "exception": false,
     "start_time": "2025-04-02T00:17:13.266223",
     "status": "completed"
    },
    "tags": []
   },
   "outputs": [
    {
     "name": "stdout",
     "output_type": "stream",
     "text": [
      "0\n",
      "1\n",
      "1\n",
      "2\n",
      "3\n"
     ]
    }
   ],
   "source": [
    "print(False + False)\n",
    "print(True + False)\n",
    "print(False + True)\n",
    "print(True + True)\n",
    "print(False + True + True + True)"
   ]
  },
  {
   "cell_type": "markdown",
   "id": "1e77254b",
   "metadata": {
    "papermill": {
     "duration": 0.006022,
     "end_time": "2025-04-02T00:17:13.294642",
     "exception": false,
     "start_time": "2025-04-02T00:17:13.288620",
     "status": "completed"
    },
    "tags": []
   },
   "source": [
    "Once you have an answer, run the code cell below to see the solution.  Viewing the solution will give you credit for answering the problem."
   ]
  },
  {
   "cell_type": "code",
   "execution_count": 10,
   "id": "73fa9ada",
   "metadata": {
    "execution": {
     "iopub.execute_input": "2025-04-02T00:17:13.308337Z",
     "iopub.status.busy": "2025-04-02T00:17:13.307933Z",
     "iopub.status.idle": "2025-04-02T00:17:13.315009Z",
     "shell.execute_reply": "2025-04-02T00:17:13.313956Z"
    },
    "papermill": {
     "duration": 0.015717,
     "end_time": "2025-04-02T00:17:13.316722",
     "exception": false,
     "start_time": "2025-04-02T00:17:13.301005",
     "status": "completed"
    },
    "tags": []
   },
   "outputs": [
    {
     "data": {
      "application/javascript": [
       "parent.postMessage({\"jupyterEvent\": \"custom.exercise_interaction\", \"data\": {\"outcomeType\": 1, \"valueTowardsCompletion\": 0.2, \"interactionType\": 1, \"questionType\": 4, \"questionId\": \"4_AddingBooleans\", \"learnToolsVersion\": \"0.3.4\", \"failureMessage\": \"\", \"exceptionClass\": \"\", \"trace\": \"\"}}, \"*\")"
      ],
      "text/plain": [
       "<IPython.core.display.Javascript object>"
      ]
     },
     "metadata": {},
     "output_type": "display_data"
    },
    {
     "data": {
      "text/markdown": [
       "<span style=\"color:#33cc33\">Correct:</span> \n",
       "\n",
       "When you add booleans, adding `False` is equivalent to adding 0, and adding `True` is equivalent to adding 1."
      ],
      "text/plain": [
       "Correct: \n",
       "\n",
       "When you add booleans, adding `False` is equivalent to adding 0, and adding `True` is equivalent to adding 1."
      ]
     },
     "metadata": {},
     "output_type": "display_data"
    }
   ],
   "source": [
    "# Check your answer (Run this code cell to receive credit!)\n",
    "q4.check()"
   ]
  },
  {
   "cell_type": "markdown",
   "id": "41da8129",
   "metadata": {
    "papermill": {
     "duration": 0.007623,
     "end_time": "2025-04-02T00:17:13.331120",
     "exception": false,
     "start_time": "2025-04-02T00:17:13.323497",
     "status": "completed"
    },
    "tags": []
   },
   "source": [
    "# 🌶️ Question 5\n",
    "\n",
    "You own an online shop where you sell rings with custom engravings.  You offer both gold plated and solid gold rings.\n",
    "- Gold plated rings have a base cost of \\\\$50, and you charge \\\\$7 per engraved unit.  \n",
    "- Solid gold rings have a base cost of \\\\$100, and you charge \\\\$10 per engraved unit.\n",
    "- Spaces and punctuation are counted as engraved units.\n",
    "\n",
    "Write a function `cost_of_project()` that takes two arguments:\n",
    "- `engraving` - a Python string with the text of the engraving\n",
    "- `solid_gold` - a Boolean that indicates whether the ring is solid gold\n",
    "\n",
    "It should return the cost of the project.  This question should be fairly challenging, and you may need a hint."
   ]
  },
  {
   "cell_type": "code",
   "execution_count": 11,
   "id": "0739e32c",
   "metadata": {
    "execution": {
     "iopub.execute_input": "2025-04-02T00:17:13.346667Z",
     "iopub.status.busy": "2025-04-02T00:17:13.346333Z",
     "iopub.status.idle": "2025-04-02T00:17:13.353965Z",
     "shell.execute_reply": "2025-04-02T00:17:13.353084Z"
    },
    "papermill": {
     "duration": 0.016832,
     "end_time": "2025-04-02T00:17:13.355598",
     "exception": false,
     "start_time": "2025-04-02T00:17:13.338766",
     "status": "completed"
    },
    "tags": []
   },
   "outputs": [
    {
     "data": {
      "application/javascript": [
       "parent.postMessage({\"jupyterEvent\": \"custom.exercise_interaction\", \"data\": {\"outcomeType\": 1, \"valueTowardsCompletion\": 0.2, \"interactionType\": 1, \"questionType\": 2, \"questionId\": \"5_CustomEngravings\", \"learnToolsVersion\": \"0.3.4\", \"failureMessage\": \"\", \"exceptionClass\": \"\", \"trace\": \"\"}}, \"*\")"
      ],
      "text/plain": [
       "<IPython.core.display.Javascript object>"
      ]
     },
     "metadata": {},
     "output_type": "display_data"
    },
    {
     "data": {
      "text/markdown": [
       "<span style=\"color:#33cc33\">Correct</span>"
      ],
      "text/plain": [
       "Correct"
      ]
     },
     "metadata": {},
     "output_type": "display_data"
    }
   ],
   "source": [
    "def cost_of_project(engraving, solid_gold):\n",
    "    cost = solid_gold * (100 + 10 * len(engraving)) + (not solid_gold) * (50 + 7 * len(engraving))\n",
    "    return cost\n",
    "\n",
    "# Check your answer\n",
    "q5.check()"
   ]
  },
  {
   "cell_type": "code",
   "execution_count": 12,
   "id": "6df843ea",
   "metadata": {
    "execution": {
     "iopub.execute_input": "2025-04-02T00:17:13.370718Z",
     "iopub.status.busy": "2025-04-02T00:17:13.370401Z",
     "iopub.status.idle": "2025-04-02T00:17:13.374313Z",
     "shell.execute_reply": "2025-04-02T00:17:13.373159Z"
    },
    "papermill": {
     "duration": 0.013616,
     "end_time": "2025-04-02T00:17:13.376203",
     "exception": false,
     "start_time": "2025-04-02T00:17:13.362587",
     "status": "completed"
    },
    "tags": []
   },
   "outputs": [],
   "source": [
    "# Uncomment to see a hint\n",
    "#q5.hint()\n",
    "\n",
    "# Uncomment to view the solution\n",
    "#q5.solution()"
   ]
  },
  {
   "cell_type": "markdown",
   "id": "5cfb3a54",
   "metadata": {
    "papermill": {
     "duration": 0.006364,
     "end_time": "2025-04-02T00:17:13.389507",
     "exception": false,
     "start_time": "2025-04-02T00:17:13.383143",
     "status": "completed"
    },
    "tags": []
   },
   "source": [
    "Run the next code cell to calculate the cost of engraving `Charlie+Denver` on a solid gold ring."
   ]
  },
  {
   "cell_type": "code",
   "execution_count": 13,
   "id": "12f1aee6",
   "metadata": {
    "execution": {
     "iopub.execute_input": "2025-04-02T00:17:13.403774Z",
     "iopub.status.busy": "2025-04-02T00:17:13.403396Z",
     "iopub.status.idle": "2025-04-02T00:17:13.408683Z",
     "shell.execute_reply": "2025-04-02T00:17:13.407481Z"
    },
    "papermill": {
     "duration": 0.0144,
     "end_time": "2025-04-02T00:17:13.410454",
     "exception": false,
     "start_time": "2025-04-02T00:17:13.396054",
     "status": "completed"
    },
    "tags": []
   },
   "outputs": [
    {
     "name": "stdout",
     "output_type": "stream",
     "text": [
      "240\n"
     ]
    }
   ],
   "source": [
    "project_one = cost_of_project(\"Charlie+Denver\", True)\n",
    "print(project_one)"
   ]
  },
  {
   "cell_type": "markdown",
   "id": "4b7de09d",
   "metadata": {
    "papermill": {
     "duration": 0.006489,
     "end_time": "2025-04-02T00:17:13.423957",
     "exception": false,
     "start_time": "2025-04-02T00:17:13.417468",
     "status": "completed"
    },
    "tags": []
   },
   "source": [
    "Use the next code cell to calculate the cost of engraving `08/10/2000` on a gold plated ring."
   ]
  },
  {
   "cell_type": "code",
   "execution_count": 14,
   "id": "6aca3909",
   "metadata": {
    "execution": {
     "iopub.execute_input": "2025-04-02T00:17:13.438674Z",
     "iopub.status.busy": "2025-04-02T00:17:13.438353Z",
     "iopub.status.idle": "2025-04-02T00:17:13.443241Z",
     "shell.execute_reply": "2025-04-02T00:17:13.442018Z"
    },
    "papermill": {
     "duration": 0.014127,
     "end_time": "2025-04-02T00:17:13.444802",
     "exception": false,
     "start_time": "2025-04-02T00:17:13.430675",
     "status": "completed"
    },
    "tags": []
   },
   "outputs": [
    {
     "name": "stdout",
     "output_type": "stream",
     "text": [
      "120\n"
     ]
    }
   ],
   "source": [
    "project_two = cost_of_project(\"08/10/2000\", False)\n",
    "print(project_two)"
   ]
  },
  {
   "cell_type": "markdown",
   "id": "e2ea3f8b",
   "metadata": {
    "papermill": {
     "duration": 0.006545,
     "end_time": "2025-04-02T00:17:13.458351",
     "exception": false,
     "start_time": "2025-04-02T00:17:13.451806",
     "status": "completed"
    },
    "tags": []
   },
   "source": [
    "# Keep going\n",
    "\n",
    "Continue to the next lesson to **[learn about conditions and conditional statements](https://www.kaggle.com/alexisbcook/conditions-and-conditional-statements)**."
   ]
  },
  {
   "cell_type": "markdown",
   "id": "5b5d2c51",
   "metadata": {
    "papermill": {
     "duration": 0.006472,
     "end_time": "2025-04-02T00:17:13.471569",
     "exception": false,
     "start_time": "2025-04-02T00:17:13.465097",
     "status": "completed"
    },
    "tags": []
   },
   "source": [
    "---\n",
    "\n",
    "\n",
    "\n",
    "\n",
    "*Have questions or comments? Visit the [course discussion forum](https://www.kaggle.com/learn/intro-to-programming/discussion) to chat with other learners.*"
   ]
  }
 ],
 "metadata": {
  "kaggle": {
   "accelerator": "none",
   "dataSources": [],
   "isGpuEnabled": false,
   "isInternetEnabled": false,
   "language": "python",
   "sourceType": "notebook"
  },
  "kernelspec": {
   "display_name": "Python 3",
   "language": "python",
   "name": "python3"
  },
  "language_info": {
   "codemirror_mode": {
    "name": "ipython",
    "version": 3
   },
   "file_extension": ".py",
   "mimetype": "text/x-python",
   "name": "python",
   "nbconvert_exporter": "python",
   "pygments_lexer": "ipython3",
   "version": "3.10.12"
  },
  "papermill": {
   "default_parameters": {},
   "duration": 5.012125,
   "end_time": "2025-04-02T00:17:14.098539",
   "environment_variables": {},
   "exception": null,
   "input_path": "__notebook__.ipynb",
   "output_path": "__notebook__.ipynb",
   "parameters": {},
   "start_time": "2025-04-02T00:17:09.086414",
   "version": "2.3.3"
  }
 },
 "nbformat": 4,
 "nbformat_minor": 5
}
