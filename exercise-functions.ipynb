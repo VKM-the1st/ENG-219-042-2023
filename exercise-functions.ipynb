{
 "cells": [
  {
   "cell_type": "markdown",
   "id": "b429f034",
   "metadata": {
    "papermill": {
     "duration": 0.005931,
     "end_time": "2025-02-23T16:50:48.604551",
     "exception": false,
     "start_time": "2025-02-23T16:50:48.598620",
     "status": "completed"
    },
    "tags": []
   },
   "source": [
    "**This notebook is an exercise in the [Intro to Programming](https://www.kaggle.com/learn/intro-to-programming) course.  You can reference the tutorial at [this link](https://www.kaggle.com/alexisbcook/functions).**\n",
    "\n",
    "---\n"
   ]
  },
  {
   "cell_type": "markdown",
   "id": "65837a0f",
   "metadata": {
    "papermill": {
     "duration": 0.004916,
     "end_time": "2025-02-23T16:50:48.614907",
     "exception": false,
     "start_time": "2025-02-23T16:50:48.609991",
     "status": "completed"
    },
    "tags": []
   },
   "source": [
    "In the tutorial, you learned about functions. In this exercise, you'll write some of your own!\n",
    "\n",
    "# Set up the notebook\n",
    "\n",
    "Run the next code cell without changes to set up the notebook."
   ]
  },
  {
   "cell_type": "code",
   "execution_count": 1,
   "id": "38c0fbc3",
   "metadata": {
    "execution": {
     "iopub.execute_input": "2025-02-23T16:50:48.626368Z",
     "iopub.status.busy": "2025-02-23T16:50:48.626003Z",
     "iopub.status.idle": "2025-02-23T16:50:49.790946Z",
     "shell.execute_reply": "2025-02-23T16:50:49.789574Z"
    },
    "papermill": {
     "duration": 1.172888,
     "end_time": "2025-02-23T16:50:49.792801",
     "exception": false,
     "start_time": "2025-02-23T16:50:48.619913",
     "status": "completed"
    },
    "tags": []
   },
   "outputs": [
    {
     "name": "stdout",
     "output_type": "stream",
     "text": [
      "Setup complete.\n"
     ]
    }
   ],
   "source": [
    "# Set up the exercise\n",
    "import math\n",
    "from learntools.core import binder\n",
    "binder.bind(globals())\n",
    "from learntools.intro_to_programming.ex2 import *\n",
    "print('Setup complete.')"
   ]
  },
  {
   "cell_type": "markdown",
   "id": "2eeaffc9",
   "metadata": {
    "papermill": {
     "duration": 0.004883,
     "end_time": "2025-02-23T16:50:49.803158",
     "exception": false,
     "start_time": "2025-02-23T16:50:49.798275",
     "status": "completed"
    },
    "tags": []
   },
   "source": [
    "# Question 1\n",
    "\n",
    "In the [House Prices - Advanced Regression Techniques competition](https://www.kaggle.com/c/house-prices-advanced-regression-techniques/overview), you need to use information like the number of bedrooms and bathrooms to predict the price of a house.  Inspired by this competition, you'll write your own function to do this.\n",
    "\n",
    "In the next code cell, create a function `get_expected_cost()` that has two arguments:\n",
    "- `beds` - number of bedrooms \n",
    "- `baths` - number of bathrooms\n",
    "\n",
    "It should return the expected cost of a house with that number of bedrooms and bathrooms.  Assume that:\n",
    "- the expected cost for a house with 0 bedrooms and 0 bathrooms is `80000`.  \n",
    "- each bedroom adds `30000` to the expected cost\n",
    "- each bathroom adds `10000` to the expected cost.\n",
    "\n",
    "For instance, \n",
    "- a house with 1 bedroom and 1 bathroom has an expected cost of `120000`, and \n",
    "- a house with 2 bedrooms and 1 bathroom has an expected cost of `150000`."
   ]
  },
  {
   "cell_type": "code",
   "execution_count": 2,
   "id": "6a1835b7",
   "metadata": {
    "execution": {
     "iopub.execute_input": "2025-02-23T16:50:49.815314Z",
     "iopub.status.busy": "2025-02-23T16:50:49.814787Z",
     "iopub.status.idle": "2025-02-23T16:50:49.824144Z",
     "shell.execute_reply": "2025-02-23T16:50:49.822923Z"
    },
    "papermill": {
     "duration": 0.017135,
     "end_time": "2025-02-23T16:50:49.825795",
     "exception": false,
     "start_time": "2025-02-23T16:50:49.808660",
     "status": "completed"
    },
    "tags": []
   },
   "outputs": [
    {
     "data": {
      "application/javascript": [
       "parent.postMessage({\"jupyterEvent\": \"custom.exercise_interaction\", \"data\": {\"outcomeType\": 1, \"valueTowardsCompletion\": 0.2, \"interactionType\": 1, \"questionType\": 2, \"questionId\": \"1_GetExpectedCost\", \"learnToolsVersion\": \"0.3.4\", \"failureMessage\": \"\", \"exceptionClass\": \"\", \"trace\": \"\"}}, \"*\")"
      ],
      "text/plain": [
       "<IPython.core.display.Javascript object>"
      ]
     },
     "metadata": {},
     "output_type": "display_data"
    },
    {
     "data": {
      "text/markdown": [
       "<span style=\"color:#33cc33\">Correct</span>"
      ],
      "text/plain": [
       "Correct"
      ]
     },
     "metadata": {},
     "output_type": "display_data"
    }
   ],
   "source": [
    "# TODO: Complete the function\n",
    "def get_expected_cost(beds, baths):\n",
    "    value = 80000 + (30000 * beds) + (10000 * baths)\n",
    "    return value\n",
    "\n",
    "# Check your answer \n",
    "q1.check()"
   ]
  },
  {
   "cell_type": "code",
   "execution_count": 3,
   "id": "686519ea",
   "metadata": {
    "execution": {
     "iopub.execute_input": "2025-02-23T16:50:49.837917Z",
     "iopub.status.busy": "2025-02-23T16:50:49.837510Z",
     "iopub.status.idle": "2025-02-23T16:50:49.841475Z",
     "shell.execute_reply": "2025-02-23T16:50:49.840409Z"
    },
    "papermill": {
     "duration": 0.012065,
     "end_time": "2025-02-23T16:50:49.843375",
     "exception": false,
     "start_time": "2025-02-23T16:50:49.831310",
     "status": "completed"
    },
    "tags": []
   },
   "outputs": [],
   "source": [
    "# Uncomment to see a hint\n",
    "#q1.hint()\n",
    "\n",
    "# Uncomment to view the solution\n",
    "#q1.solution()"
   ]
  },
  {
   "cell_type": "markdown",
   "id": "683b0e78",
   "metadata": {
    "papermill": {
     "duration": 0.004839,
     "end_time": "2025-02-23T16:50:49.853734",
     "exception": false,
     "start_time": "2025-02-23T16:50:49.848895",
     "status": "completed"
    },
    "tags": []
   },
   "source": [
    "# Question 2\n",
    "\n",
    "You are thinking about buying a home and want to get an idea of how much you will spend, based on the number of bedrooms and bathrooms.  You are trying to decide between four different options:\n",
    "- Option 1: house with two bedrooms and three bathrooms\n",
    "- Option 2: house with three bedrooms and two bathrooms\n",
    "- Option 3: house with three bedrooms and three bathrooms\n",
    "- Option 4: house with three bedrooms and four bathrooms\n",
    "\n",
    "Use the `get_expected_cost()` function you defined in question 1 to set `option_1`, `option_2`, `option_3`, and `option_4` to the expected cost of each option."
   ]
  },
  {
   "cell_type": "code",
   "execution_count": 4,
   "id": "7dc10cc4",
   "metadata": {
    "execution": {
     "iopub.execute_input": "2025-02-23T16:50:49.865463Z",
     "iopub.status.busy": "2025-02-23T16:50:49.865102Z",
     "iopub.status.idle": "2025-02-23T16:50:49.875676Z",
     "shell.execute_reply": "2025-02-23T16:50:49.874600Z"
    },
    "papermill": {
     "duration": 0.018486,
     "end_time": "2025-02-23T16:50:49.877401",
     "exception": false,
     "start_time": "2025-02-23T16:50:49.858915",
     "status": "completed"
    },
    "tags": []
   },
   "outputs": [
    {
     "name": "stdout",
     "output_type": "stream",
     "text": [
      "170000\n",
      "190000\n",
      "200000\n",
      "210000\n"
     ]
    },
    {
     "data": {
      "application/javascript": [
       "parent.postMessage({\"jupyterEvent\": \"custom.exercise_interaction\", \"data\": {\"outcomeType\": 1, \"valueTowardsCompletion\": 0.2, \"interactionType\": 1, \"questionType\": 1, \"questionId\": \"2_RunGetExpectedCost\", \"learnToolsVersion\": \"0.3.4\", \"failureMessage\": \"\", \"exceptionClass\": \"\", \"trace\": \"\"}}, \"*\")"
      ],
      "text/plain": [
       "<IPython.core.display.Javascript object>"
      ]
     },
     "metadata": {},
     "output_type": "display_data"
    },
    {
     "data": {
      "text/markdown": [
       "<span style=\"color:#33cc33\">Correct</span>"
      ],
      "text/plain": [
       "Correct"
      ]
     },
     "metadata": {},
     "output_type": "display_data"
    }
   ],
   "source": [
    "# TODO: Use the get_expected_cost function to fill in each value\n",
    "option_one = get_expected_cost(2,3)\n",
    "option_two = get_expected_cost(3,2)\n",
    "option_three = get_expected_cost(3,3)\n",
    "option_four = get_expected_cost(3,4)\n",
    "\n",
    "print(option_one)\n",
    "print(option_two)\n",
    "print(option_three)\n",
    "print(option_four)\n",
    "\n",
    "# Check your answer\n",
    "q2.check()"
   ]
  },
  {
   "cell_type": "code",
   "execution_count": 5,
   "id": "7c8fa70f",
   "metadata": {
    "execution": {
     "iopub.execute_input": "2025-02-23T16:50:49.891004Z",
     "iopub.status.busy": "2025-02-23T16:50:49.890624Z",
     "iopub.status.idle": "2025-02-23T16:50:49.894449Z",
     "shell.execute_reply": "2025-02-23T16:50:49.893283Z"
    },
    "papermill": {
     "duration": 0.012417,
     "end_time": "2025-02-23T16:50:49.896100",
     "exception": false,
     "start_time": "2025-02-23T16:50:49.883683",
     "status": "completed"
    },
    "tags": []
   },
   "outputs": [],
   "source": [
    "# Uncomment to see a hint\n",
    "#q2.hint()\n",
    "\n",
    "# Uncomment to view the solution\n",
    "#q2.solution()"
   ]
  },
  {
   "cell_type": "markdown",
   "id": "1f10a21b",
   "metadata": {
    "papermill": {
     "duration": 0.005488,
     "end_time": "2025-02-23T16:50:49.907448",
     "exception": false,
     "start_time": "2025-02-23T16:50:49.901960",
     "status": "completed"
    },
    "tags": []
   },
   "source": [
    "# Question 3\n",
    "\n",
    "You're a home decorator, and you'd like to use Python to streamline some of your work.  Specifically, you're creating a tool that you intend to use to calculate the cost of painting a room.\n",
    "\n",
    "As a first step, define a function `get_cost()` that takes as input:\n",
    "- `sqft_walls` = total square feet of walls to be painted\n",
    "- `sqft_ceiling` = square feet of ceiling to be painted\n",
    "- `sqft_per_gallon` = number of square feet that you can cover with one gallon of paint\n",
    "- `cost_per_gallon` = cost (in dollars) of one gallon of paint\n",
    "\n",
    "It should return the cost (in dollars) of putting one coat of paint on all walls and the ceiling.  Assume you can buy the exact amount of paint that you need, so you can buy partial gallons (e.g., if you need 7.523 gallons, you can buy that exact amount, instead of needing to buy 8 gallons and waste some paint).  Do not round your answer."
   ]
  },
  {
   "cell_type": "code",
   "execution_count": 6,
   "id": "155660b7",
   "metadata": {
    "execution": {
     "iopub.execute_input": "2025-02-23T16:50:49.920886Z",
     "iopub.status.busy": "2025-02-23T16:50:49.920505Z",
     "iopub.status.idle": "2025-02-23T16:50:49.929021Z",
     "shell.execute_reply": "2025-02-23T16:50:49.927946Z"
    },
    "papermill": {
     "duration": 0.01776,
     "end_time": "2025-02-23T16:50:49.930874",
     "exception": false,
     "start_time": "2025-02-23T16:50:49.913114",
     "status": "completed"
    },
    "tags": []
   },
   "outputs": [
    {
     "data": {
      "application/javascript": [
       "parent.postMessage({\"jupyterEvent\": \"custom.exercise_interaction\", \"data\": {\"outcomeType\": 1, \"valueTowardsCompletion\": 0.2, \"interactionType\": 1, \"questionType\": 2, \"questionId\": \"3_GetCostPaint\", \"learnToolsVersion\": \"0.3.4\", \"failureMessage\": \"\", \"exceptionClass\": \"\", \"trace\": \"\"}}, \"*\")"
      ],
      "text/plain": [
       "<IPython.core.display.Javascript object>"
      ]
     },
     "metadata": {},
     "output_type": "display_data"
    },
    {
     "data": {
      "text/markdown": [
       "<span style=\"color:#33cc33\">Correct</span>"
      ],
      "text/plain": [
       "Correct"
      ]
     },
     "metadata": {},
     "output_type": "display_data"
    }
   ],
   "source": [
    "# TODO: Finish defining the function\n",
    "def get_cost(sqft_walls, sqft_ceiling, sqft_per_gallon, cost_per_gallon):\n",
    "    total_sqft = sqft_walls + sqft_ceiling\n",
    "    gallons_needed = total_sqft / sqft_per_gallon\n",
    "    cost = cost_per_gallon * gallons_needed \n",
    "    return cost\n",
    "\n",
    "# Check your answer\n",
    "q3.check()"
   ]
  },
  {
   "cell_type": "code",
   "execution_count": 7,
   "id": "aaee947e",
   "metadata": {
    "execution": {
     "iopub.execute_input": "2025-02-23T16:50:49.945209Z",
     "iopub.status.busy": "2025-02-23T16:50:49.944773Z",
     "iopub.status.idle": "2025-02-23T16:50:49.949278Z",
     "shell.execute_reply": "2025-02-23T16:50:49.948147Z"
    },
    "papermill": {
     "duration": 0.014216,
     "end_time": "2025-02-23T16:50:49.951136",
     "exception": false,
     "start_time": "2025-02-23T16:50:49.936920",
     "status": "completed"
    },
    "tags": []
   },
   "outputs": [],
   "source": [
    "# Uncomment to see a hint\n",
    "#q3.hint()\n",
    "\n",
    "# Uncomment to view the solution\n",
    "#q3.solution()"
   ]
  },
  {
   "cell_type": "markdown",
   "id": "c47d8aa4",
   "metadata": {
    "papermill": {
     "duration": 0.005416,
     "end_time": "2025-02-23T16:50:49.962581",
     "exception": false,
     "start_time": "2025-02-23T16:50:49.957165",
     "status": "completed"
    },
    "tags": []
   },
   "source": [
    "# Question 4\n",
    "\n",
    "Use the `get_cost()` function you defined in Question 3 to calculate the cost of applying one coat of paint to a room with:\n",
    "- 432 square feet of walls, and\n",
    "- 144 square feet of ceiling.\n",
    "\n",
    "Assume that one gallon of paint covers 400 square feet and costs $15.  As in Question 3, assume you can buy partial gallons of paint.  Do not round your answer."
   ]
  },
  {
   "cell_type": "code",
   "execution_count": 8,
   "id": "e6a24136",
   "metadata": {
    "execution": {
     "iopub.execute_input": "2025-02-23T16:50:49.976512Z",
     "iopub.status.busy": "2025-02-23T16:50:49.976116Z",
     "iopub.status.idle": "2025-02-23T16:50:49.985254Z",
     "shell.execute_reply": "2025-02-23T16:50:49.984100Z"
    },
    "papermill": {
     "duration": 0.018826,
     "end_time": "2025-02-23T16:50:49.987130",
     "exception": false,
     "start_time": "2025-02-23T16:50:49.968304",
     "status": "completed"
    },
    "tags": []
   },
   "outputs": [
    {
     "data": {
      "application/javascript": [
       "parent.postMessage({\"jupyterEvent\": \"custom.exercise_interaction\", \"data\": {\"outcomeType\": 1, \"valueTowardsCompletion\": 0.2, \"interactionType\": 1, \"questionType\": 1, \"questionId\": \"4_GetCostPaintExample\", \"learnToolsVersion\": \"0.3.4\", \"failureMessage\": \"\", \"exceptionClass\": \"\", \"trace\": \"\"}}, \"*\")"
      ],
      "text/plain": [
       "<IPython.core.display.Javascript object>"
      ]
     },
     "metadata": {},
     "output_type": "display_data"
    },
    {
     "data": {
      "text/markdown": [
       "<span style=\"color:#33cc33\">Correct</span>"
      ],
      "text/plain": [
       "Correct"
      ]
     },
     "metadata": {},
     "output_type": "display_data"
    }
   ],
   "source": [
    "# TODO: Set the project_cost variable to the cost of the project\n",
    "project_cost =get_cost (432,144,400,15)\n",
    "# Check your answer\n",
    "q4.check()"
   ]
  },
  {
   "cell_type": "code",
   "execution_count": 9,
   "id": "86b5e15d",
   "metadata": {
    "execution": {
     "iopub.execute_input": "2025-02-23T16:50:50.000949Z",
     "iopub.status.busy": "2025-02-23T16:50:50.000565Z",
     "iopub.status.idle": "2025-02-23T16:50:50.004896Z",
     "shell.execute_reply": "2025-02-23T16:50:50.003782Z"
    },
    "papermill": {
     "duration": 0.013263,
     "end_time": "2025-02-23T16:50:50.006588",
     "exception": false,
     "start_time": "2025-02-23T16:50:49.993325",
     "status": "completed"
    },
    "tags": []
   },
   "outputs": [],
   "source": [
    "# Uncomment to see a hint\n",
    "#q4.hint()\n",
    "\n",
    "# Uncomment to view the solution\n",
    "#q4.solution()"
   ]
  },
  {
   "cell_type": "markdown",
   "id": "3a1e4579",
   "metadata": {
    "papermill": {
     "duration": 0.006315,
     "end_time": "2025-02-23T16:50:50.019175",
     "exception": false,
     "start_time": "2025-02-23T16:50:50.012860",
     "status": "completed"
    },
    "tags": []
   },
   "source": [
    "# 🌶️ Question 5\n",
    "\n",
    "Now say you can no longer buy fractions of a gallon.  (For instance, if you need 4.3 gallons to do a project, then you have to buy 5 gallons of paint.)\n",
    "\n",
    "With this new scenario, you will create a new function `get_actual_cost` that uses the same inputs and calculates the cost of your project.\n",
    "\n",
    "One function that you'll need to use to do this is `math.ceil()`.  We demonstrate usage of this function in the code cell below.  It takes as a number as input and rounds the number up to the nearest integer.  \n",
    "\n",
    "Run the next code cell to test this function for yourself.  Feel free to change the value of `test_value` and make sure `math.ceil()` returns the number you expect."
   ]
  },
  {
   "cell_type": "code",
   "execution_count": 10,
   "id": "ec183212",
   "metadata": {
    "execution": {
     "iopub.execute_input": "2025-02-23T16:50:50.033365Z",
     "iopub.status.busy": "2025-02-23T16:50:50.033009Z",
     "iopub.status.idle": "2025-02-23T16:50:50.038694Z",
     "shell.execute_reply": "2025-02-23T16:50:50.037325Z"
    },
    "papermill": {
     "duration": 0.015025,
     "end_time": "2025-02-23T16:50:50.040602",
     "exception": false,
     "start_time": "2025-02-23T16:50:50.025577",
     "status": "completed"
    },
    "tags": []
   },
   "outputs": [
    {
     "name": "stdout",
     "output_type": "stream",
     "text": [
      "3\n"
     ]
    }
   ],
   "source": [
    "test_value = 2.17\n",
    "\n",
    "rounded_value = math.ceil(test_value)\n",
    "print(rounded_value)"
   ]
  },
  {
   "cell_type": "markdown",
   "id": "c36b780a",
   "metadata": {
    "papermill": {
     "duration": 0.005855,
     "end_time": "2025-02-23T16:50:50.052793",
     "exception": false,
     "start_time": "2025-02-23T16:50:50.046938",
     "status": "completed"
    },
    "tags": []
   },
   "source": [
    "Use the next code cell to define the function `get_actual_cost()`.  You'll need to use the `math.ceil()` function to do this.\n",
    "\n",
    "When answering this question, note that it's completely valid to define a function that makes use of another function.  For instance, we can define a function `round_up_and_divide_by_three` that makes use of the `math.ceil` function:\n",
    "```\n",
    "def round_up_and_divide_by_three(num):\n",
    "    new_value = math.ceil(num)\n",
    "    final_value = new_value / 3\n",
    "    return final_value\n",
    "```"
   ]
  },
  {
   "cell_type": "code",
   "execution_count": 11,
   "id": "fdda59e0",
   "metadata": {
    "execution": {
     "iopub.execute_input": "2025-02-23T16:50:50.066230Z",
     "iopub.status.busy": "2025-02-23T16:50:50.065875Z",
     "iopub.status.idle": "2025-02-23T16:50:50.074258Z",
     "shell.execute_reply": "2025-02-23T16:50:50.073229Z"
    },
    "papermill": {
     "duration": 0.017075,
     "end_time": "2025-02-23T16:50:50.075921",
     "exception": false,
     "start_time": "2025-02-23T16:50:50.058846",
     "status": "completed"
    },
    "tags": []
   },
   "outputs": [
    {
     "data": {
      "application/javascript": [
       "parent.postMessage({\"jupyterEvent\": \"custom.exercise_interaction\", \"data\": {\"outcomeType\": 1, \"valueTowardsCompletion\": 0.2, \"interactionType\": 1, \"questionType\": 2, \"questionId\": \"5_NoMoreFractions\", \"learnToolsVersion\": \"0.3.4\", \"failureMessage\": \"\", \"exceptionClass\": \"\", \"trace\": \"\"}}, \"*\")"
      ],
      "text/plain": [
       "<IPython.core.display.Javascript object>"
      ]
     },
     "metadata": {},
     "output_type": "display_data"
    },
    {
     "data": {
      "text/markdown": [
       "<span style=\"color:#33cc33\">Correct</span>"
      ],
      "text/plain": [
       "Correct"
      ]
     },
     "metadata": {},
     "output_type": "display_data"
    }
   ],
   "source": [
    "def get_actual_cost(sqft_walls, sqft_ceiling, sqft_per_gallon, cost_per_gallon):\n",
    "    total_sqft = sqft_walls + sqft_ceiling\n",
    "    gallons_needed = total_sqft / sqft_per_gallon\n",
    "    gallons_to_buy = math.ceil(gallons_needed)\n",
    "    cost = cost_per_gallon * gallons_to_buy\n",
    "    return cost\n",
    "\n",
    "# Check your answer\n",
    "q5.check()"
   ]
  },
  {
   "cell_type": "code",
   "execution_count": 12,
   "id": "d3d72278",
   "metadata": {
    "execution": {
     "iopub.execute_input": "2025-02-23T16:50:50.090306Z",
     "iopub.status.busy": "2025-02-23T16:50:50.089939Z",
     "iopub.status.idle": "2025-02-23T16:50:50.093778Z",
     "shell.execute_reply": "2025-02-23T16:50:50.092678Z"
    },
    "papermill": {
     "duration": 0.013001,
     "end_time": "2025-02-23T16:50:50.095701",
     "exception": false,
     "start_time": "2025-02-23T16:50:50.082700",
     "status": "completed"
    },
    "tags": []
   },
   "outputs": [],
   "source": [
    "# Uncomment to see a hint\n",
    "#q5.hint()\n",
    "\n",
    "# Uncomment to view the solution\n",
    "#q5.solution()"
   ]
  },
  {
   "cell_type": "markdown",
   "id": "e0519a5b",
   "metadata": {
    "papermill": {
     "duration": 0.005861,
     "end_time": "2025-02-23T16:50:50.108022",
     "exception": false,
     "start_time": "2025-02-23T16:50:50.102161",
     "status": "completed"
    },
    "tags": []
   },
   "source": [
    "Once your function is verified as correct, run the next code cell to calculate the updated cost of your project."
   ]
  },
  {
   "cell_type": "code",
   "execution_count": 13,
   "id": "92aaa313",
   "metadata": {
    "execution": {
     "iopub.execute_input": "2025-02-23T16:50:50.122420Z",
     "iopub.status.busy": "2025-02-23T16:50:50.122083Z",
     "iopub.status.idle": "2025-02-23T16:50:50.128221Z",
     "shell.execute_reply": "2025-02-23T16:50:50.127147Z"
    },
    "papermill": {
     "duration": 0.015745,
     "end_time": "2025-02-23T16:50:50.129939",
     "exception": false,
     "start_time": "2025-02-23T16:50:50.114194",
     "status": "completed"
    },
    "tags": []
   },
   "outputs": [
    {
     "data": {
      "text/plain": [
       "30"
      ]
     },
     "execution_count": 13,
     "metadata": {},
     "output_type": "execute_result"
    }
   ],
   "source": [
    "get_actual_cost(432, 144, 400, 15) "
   ]
  },
  {
   "cell_type": "markdown",
   "id": "430e24cc",
   "metadata": {
    "papermill": {
     "duration": 0.006488,
     "end_time": "2025-02-23T16:50:50.142984",
     "exception": false,
     "start_time": "2025-02-23T16:50:50.136496",
     "status": "completed"
    },
    "tags": []
   },
   "source": [
    "Say you're working with a slightly larger room.  Run the next code cell to calculate the cost of the project."
   ]
  },
  {
   "cell_type": "code",
   "execution_count": 14,
   "id": "4225057a",
   "metadata": {
    "execution": {
     "iopub.execute_input": "2025-02-23T16:50:50.157602Z",
     "iopub.status.busy": "2025-02-23T16:50:50.157244Z",
     "iopub.status.idle": "2025-02-23T16:50:50.164614Z",
     "shell.execute_reply": "2025-02-23T16:50:50.162998Z"
    },
    "papermill": {
     "duration": 0.017611,
     "end_time": "2025-02-23T16:50:50.167008",
     "exception": false,
     "start_time": "2025-02-23T16:50:50.149397",
     "status": "completed"
    },
    "tags": []
   },
   "outputs": [
    {
     "data": {
      "text/plain": [
       "45"
      ]
     },
     "execution_count": 14,
     "metadata": {},
     "output_type": "execute_result"
    }
   ],
   "source": [
    "get_actual_cost(594, 288, 400, 15) "
   ]
  },
  {
   "cell_type": "markdown",
   "id": "fe8a60ff",
   "metadata": {
    "papermill": {
     "duration": 0.007034,
     "end_time": "2025-02-23T16:50:50.180760",
     "exception": false,
     "start_time": "2025-02-23T16:50:50.173726",
     "status": "completed"
    },
    "tags": []
   },
   "source": [
    "# Keep going\n",
    "\n",
    "Continue to learn about **[data types](https://www.kaggle.com/alexisbcook/data-types)**."
   ]
  },
  {
   "cell_type": "markdown",
   "id": "8d3aacfc",
   "metadata": {
    "papermill": {
     "duration": 0.00608,
     "end_time": "2025-02-23T16:50:50.194022",
     "exception": false,
     "start_time": "2025-02-23T16:50:50.187942",
     "status": "completed"
    },
    "tags": []
   },
   "source": [
    "---\n",
    "\n",
    "\n",
    "\n",
    "\n",
    "*Have questions or comments? Visit the [course discussion forum](https://www.kaggle.com/learn/intro-to-programming/discussion) to chat with other learners.*"
   ]
  }
 ],
 "metadata": {
  "kaggle": {
   "accelerator": "none",
   "dataSources": [],
   "isGpuEnabled": false,
   "isInternetEnabled": false,
   "language": "python",
   "sourceType": "notebook"
  },
  "kernelspec": {
   "display_name": "Python 3",
   "language": "python",
   "name": "python3"
  },
  "language_info": {
   "codemirror_mode": {
    "name": "ipython",
    "version": 3
   },
   "file_extension": ".py",
   "mimetype": "text/x-python",
   "name": "python",
   "nbconvert_exporter": "python",
   "pygments_lexer": "ipython3",
   "version": "3.10.12"
  },
  "papermill": {
   "default_parameters": {},
   "duration": 5.35818,
   "end_time": "2025-02-23T16:50:50.823121",
   "environment_variables": {},
   "exception": null,
   "input_path": "__notebook__.ipynb",
   "output_path": "__notebook__.ipynb",
   "parameters": {},
   "start_time": "2025-02-23T16:50:45.464941",
   "version": "2.6.0"
  }
 },
 "nbformat": 4,
 "nbformat_minor": 5
}
