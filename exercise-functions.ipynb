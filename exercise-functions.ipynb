{
 "cells": [
  {
   "cell_type": "markdown",
   "id": "5653c932",
   "metadata": {
    "papermill": {
     "duration": 0.005603,
     "end_time": "2025-04-02T00:12:45.547302",
     "exception": false,
     "start_time": "2025-04-02T00:12:45.541699",
     "status": "completed"
    },
    "tags": []
   },
   "source": [
    "**This notebook is an exercise in the [Intro to Programming](https://www.kaggle.com/learn/intro-to-programming) course.  You can reference the tutorial at [this link](https://www.kaggle.com/alexisbcook/functions).**\n",
    "\n",
    "---\n"
   ]
  },
  {
   "cell_type": "markdown",
   "id": "a5f7c52d",
   "metadata": {
    "papermill": {
     "duration": 0.004589,
     "end_time": "2025-04-02T00:12:45.556864",
     "exception": false,
     "start_time": "2025-04-02T00:12:45.552275",
     "status": "completed"
    },
    "tags": []
   },
   "source": [
    "In the tutorial, you learned about functions. In this exercise, you'll write some of your own!\n",
    "\n",
    "# Set up the notebook\n",
    "\n",
    "Run the next code cell without changes to set up the notebook."
   ]
  },
  {
   "cell_type": "code",
   "execution_count": 1,
   "id": "4d335f01",
   "metadata": {
    "execution": {
     "iopub.execute_input": "2025-04-02T00:12:45.567814Z",
     "iopub.status.busy": "2025-04-02T00:12:45.567460Z",
     "iopub.status.idle": "2025-04-02T00:12:46.503417Z",
     "shell.execute_reply": "2025-04-02T00:12:46.502356Z"
    },
    "papermill": {
     "duration": 0.943323,
     "end_time": "2025-04-02T00:12:46.505080",
     "exception": false,
     "start_time": "2025-04-02T00:12:45.561757",
     "status": "completed"
    },
    "tags": []
   },
   "outputs": [
    {
     "name": "stdout",
     "output_type": "stream",
     "text": [
      "Setup complete.\n"
     ]
    }
   ],
   "source": [
    "# Set up the exercise\n",
    "import math\n",
    "from learntools.core import binder\n",
    "binder.bind(globals())\n",
    "from learntools.intro_to_programming.ex2 import *\n",
    "print('Setup complete.')"
   ]
  },
  {
   "cell_type": "markdown",
   "id": "c4e06391",
   "metadata": {
    "papermill": {
     "duration": 0.004636,
     "end_time": "2025-04-02T00:12:46.515043",
     "exception": false,
     "start_time": "2025-04-02T00:12:46.510407",
     "status": "completed"
    },
    "tags": []
   },
   "source": [
    "# Question 1\n",
    "\n",
    "In the [House Prices - Advanced Regression Techniques competition](https://www.kaggle.com/c/house-prices-advanced-regression-techniques/overview), you need to use information like the number of bedrooms and bathrooms to predict the price of a house.  Inspired by this competition, you'll write your own function to do this.\n",
    "\n",
    "In the next code cell, create a function `get_expected_cost()` that has two arguments:\n",
    "- `beds` - number of bedrooms \n",
    "- `baths` - number of bathrooms\n",
    "\n",
    "It should return the expected cost of a house with that number of bedrooms and bathrooms.  Assume that:\n",
    "- the expected cost for a house with 0 bedrooms and 0 bathrooms is `80000`.  \n",
    "- each bedroom adds `30000` to the expected cost\n",
    "- each bathroom adds `10000` to the expected cost.\n",
    "\n",
    "For instance, \n",
    "- a house with 1 bedroom and 1 bathroom has an expected cost of `120000`, and \n",
    "- a house with 2 bedrooms and 1 bathroom has an expected cost of `150000`."
   ]
  },
  {
   "cell_type": "code",
   "execution_count": 2,
   "id": "1962c2b0",
   "metadata": {
    "execution": {
     "iopub.execute_input": "2025-04-02T00:12:46.526030Z",
     "iopub.status.busy": "2025-04-02T00:12:46.525566Z",
     "iopub.status.idle": "2025-04-02T00:12:46.533893Z",
     "shell.execute_reply": "2025-04-02T00:12:46.533086Z"
    },
    "papermill": {
     "duration": 0.015548,
     "end_time": "2025-04-02T00:12:46.535447",
     "exception": false,
     "start_time": "2025-04-02T00:12:46.519899",
     "status": "completed"
    },
    "tags": []
   },
   "outputs": [
    {
     "data": {
      "application/javascript": [
       "parent.postMessage({\"jupyterEvent\": \"custom.exercise_interaction\", \"data\": {\"outcomeType\": 1, \"valueTowardsCompletion\": 0.2, \"interactionType\": 1, \"questionType\": 2, \"questionId\": \"1_GetExpectedCost\", \"learnToolsVersion\": \"0.3.4\", \"failureMessage\": \"\", \"exceptionClass\": \"\", \"trace\": \"\"}}, \"*\")"
      ],
      "text/plain": [
       "<IPython.core.display.Javascript object>"
      ]
     },
     "metadata": {},
     "output_type": "display_data"
    },
    {
     "data": {
      "text/markdown": [
       "<span style=\"color:#33cc33\">Correct</span>"
      ],
      "text/plain": [
       "Correct"
      ]
     },
     "metadata": {},
     "output_type": "display_data"
    }
   ],
   "source": [
    "# TODO: Complete the function\n",
    "def get_expected_cost(beds, baths):\n",
    "    value = 80000 + (30000 * beds) + (10000 * baths)\n",
    "    return value\n",
    "\n",
    "# Check your answer \n",
    "q1.check()"
   ]
  },
  {
   "cell_type": "code",
   "execution_count": 3,
   "id": "27a521b5",
   "metadata": {
    "execution": {
     "iopub.execute_input": "2025-04-02T00:12:46.546785Z",
     "iopub.status.busy": "2025-04-02T00:12:46.546467Z",
     "iopub.status.idle": "2025-04-02T00:12:46.550372Z",
     "shell.execute_reply": "2025-04-02T00:12:46.549219Z"
    },
    "papermill": {
     "duration": 0.011541,
     "end_time": "2025-04-02T00:12:46.552134",
     "exception": false,
     "start_time": "2025-04-02T00:12:46.540593",
     "status": "completed"
    },
    "tags": []
   },
   "outputs": [],
   "source": [
    "# Uncomment to see a hint\n",
    "#q1.hint()\n",
    "\n",
    "# Uncomment to view the solution\n",
    "#q1.solution()"
   ]
  },
  {
   "cell_type": "markdown",
   "id": "8d3d85a3",
   "metadata": {
    "papermill": {
     "duration": 0.004951,
     "end_time": "2025-04-02T00:12:46.562660",
     "exception": false,
     "start_time": "2025-04-02T00:12:46.557709",
     "status": "completed"
    },
    "tags": []
   },
   "source": [
    "# Question 2\n",
    "\n",
    "You are thinking about buying a home and want to get an idea of how much you will spend, based on the number of bedrooms and bathrooms.  You are trying to decide between four different options:\n",
    "- Option 1: house with two bedrooms and three bathrooms\n",
    "- Option 2: house with three bedrooms and two bathrooms\n",
    "- Option 3: house with three bedrooms and three bathrooms\n",
    "- Option 4: house with three bedrooms and four bathrooms\n",
    "\n",
    "Use the `get_expected_cost()` function you defined in question 1 to set `option_1`, `option_2`, `option_3`, and `option_4` to the expected cost of each option."
   ]
  },
  {
   "cell_type": "code",
   "execution_count": 4,
   "id": "b0c739c8",
   "metadata": {
    "execution": {
     "iopub.execute_input": "2025-04-02T00:12:46.574222Z",
     "iopub.status.busy": "2025-04-02T00:12:46.573875Z",
     "iopub.status.idle": "2025-04-02T00:12:46.583493Z",
     "shell.execute_reply": "2025-04-02T00:12:46.582396Z"
    },
    "papermill": {
     "duration": 0.017438,
     "end_time": "2025-04-02T00:12:46.585204",
     "exception": false,
     "start_time": "2025-04-02T00:12:46.567766",
     "status": "completed"
    },
    "tags": []
   },
   "outputs": [
    {
     "name": "stdout",
     "output_type": "stream",
     "text": [
      "170000\n",
      "190000\n",
      "200000\n",
      "210000\n"
     ]
    },
    {
     "data": {
      "application/javascript": [
       "parent.postMessage({\"jupyterEvent\": \"custom.exercise_interaction\", \"data\": {\"outcomeType\": 1, \"valueTowardsCompletion\": 0.2, \"interactionType\": 1, \"questionType\": 1, \"questionId\": \"2_RunGetExpectedCost\", \"learnToolsVersion\": \"0.3.4\", \"failureMessage\": \"\", \"exceptionClass\": \"\", \"trace\": \"\"}}, \"*\")"
      ],
      "text/plain": [
       "<IPython.core.display.Javascript object>"
      ]
     },
     "metadata": {},
     "output_type": "display_data"
    },
    {
     "data": {
      "text/markdown": [
       "<span style=\"color:#33cc33\">Correct</span>"
      ],
      "text/plain": [
       "Correct"
      ]
     },
     "metadata": {},
     "output_type": "display_data"
    }
   ],
   "source": [
    "# TODO: Use the get_expected_cost function to fill in each value\n",
    "option_one = get_expected_cost(2,3)\n",
    "option_two = get_expected_cost(3,2)\n",
    "option_three = get_expected_cost(3,3)\n",
    "option_four = get_expected_cost(3,4)\n",
    "\n",
    "print(option_one)\n",
    "print(option_two)\n",
    "print(option_three)\n",
    "print(option_four)\n",
    "\n",
    "# Check your answer\n",
    "q2.check()"
   ]
  },
  {
   "cell_type": "code",
   "execution_count": 5,
   "id": "94b584f0",
   "metadata": {
    "execution": {
     "iopub.execute_input": "2025-04-02T00:12:46.597966Z",
     "iopub.status.busy": "2025-04-02T00:12:46.597611Z",
     "iopub.status.idle": "2025-04-02T00:12:46.601420Z",
     "shell.execute_reply": "2025-04-02T00:12:46.600378Z"
    },
    "papermill": {
     "duration": 0.012098,
     "end_time": "2025-04-02T00:12:46.603207",
     "exception": false,
     "start_time": "2025-04-02T00:12:46.591109",
     "status": "completed"
    },
    "tags": []
   },
   "outputs": [],
   "source": [
    "# Uncomment to see a hint\n",
    "#q2.hint()\n",
    "\n",
    "# Uncomment to view the solution\n",
    "#q2.solution()"
   ]
  },
  {
   "cell_type": "markdown",
   "id": "930beb50",
   "metadata": {
    "papermill": {
     "duration": 0.005144,
     "end_time": "2025-04-02T00:12:46.614051",
     "exception": false,
     "start_time": "2025-04-02T00:12:46.608907",
     "status": "completed"
    },
    "tags": []
   },
   "source": [
    "# Question 3\n",
    "\n",
    "You're a home decorator, and you'd like to use Python to streamline some of your work.  Specifically, you're creating a tool that you intend to use to calculate the cost of painting a room.\n",
    "\n",
    "As a first step, define a function `get_cost()` that takes as input:\n",
    "- `sqft_walls` = total square feet of walls to be painted\n",
    "- `sqft_ceiling` = square feet of ceiling to be painted\n",
    "- `sqft_per_gallon` = number of square feet that you can cover with one gallon of paint\n",
    "- `cost_per_gallon` = cost (in dollars) of one gallon of paint\n",
    "\n",
    "It should return the cost (in dollars) of putting one coat of paint on all walls and the ceiling.  Assume you can buy the exact amount of paint that you need, so you can buy partial gallons (e.g., if you need 7.523 gallons, you can buy that exact amount, instead of needing to buy 8 gallons and waste some paint).  Do not round your answer."
   ]
  },
  {
   "cell_type": "code",
   "execution_count": 6,
   "id": "3d5e60df",
   "metadata": {
    "execution": {
     "iopub.execute_input": "2025-04-02T00:12:46.626259Z",
     "iopub.status.busy": "2025-04-02T00:12:46.625890Z",
     "iopub.status.idle": "2025-04-02T00:12:46.633882Z",
     "shell.execute_reply": "2025-04-02T00:12:46.632860Z"
    },
    "papermill": {
     "duration": 0.015812,
     "end_time": "2025-04-02T00:12:46.635475",
     "exception": false,
     "start_time": "2025-04-02T00:12:46.619663",
     "status": "completed"
    },
    "tags": []
   },
   "outputs": [
    {
     "data": {
      "application/javascript": [
       "parent.postMessage({\"jupyterEvent\": \"custom.exercise_interaction\", \"data\": {\"outcomeType\": 1, \"valueTowardsCompletion\": 0.2, \"interactionType\": 1, \"questionType\": 2, \"questionId\": \"3_GetCostPaint\", \"learnToolsVersion\": \"0.3.4\", \"failureMessage\": \"\", \"exceptionClass\": \"\", \"trace\": \"\"}}, \"*\")"
      ],
      "text/plain": [
       "<IPython.core.display.Javascript object>"
      ]
     },
     "metadata": {},
     "output_type": "display_data"
    },
    {
     "data": {
      "text/markdown": [
       "<span style=\"color:#33cc33\">Correct</span>"
      ],
      "text/plain": [
       "Correct"
      ]
     },
     "metadata": {},
     "output_type": "display_data"
    }
   ],
   "source": [
    "# TODO: Finish defining the function\n",
    "def get_cost(sqft_walls, sqft_ceiling, sqft_per_gallon, cost_per_gallon):\n",
    "    total_sqft = sqft_walls + sqft_ceiling\n",
    "    gallons_needed = total_sqft / sqft_per_gallon\n",
    "    cost = cost_per_gallon * gallons_needed \n",
    "    return cost\n",
    "\n",
    "# Check your answer\n",
    "q3.check()"
   ]
  },
  {
   "cell_type": "code",
   "execution_count": 7,
   "id": "6bbfcfbd",
   "metadata": {
    "execution": {
     "iopub.execute_input": "2025-04-02T00:12:46.648200Z",
     "iopub.status.busy": "2025-04-02T00:12:46.647821Z",
     "iopub.status.idle": "2025-04-02T00:12:46.651583Z",
     "shell.execute_reply": "2025-04-02T00:12:46.650609Z"
    },
    "papermill": {
     "duration": 0.011871,
     "end_time": "2025-04-02T00:12:46.653247",
     "exception": false,
     "start_time": "2025-04-02T00:12:46.641376",
     "status": "completed"
    },
    "tags": []
   },
   "outputs": [],
   "source": [
    "# Uncomment to see a hint\n",
    "#q3.hint()\n",
    "\n",
    "# Uncomment to view the solution\n",
    "#q3.solution()"
   ]
  },
  {
   "cell_type": "markdown",
   "id": "6a9bc34e",
   "metadata": {
    "papermill": {
     "duration": 0.005347,
     "end_time": "2025-04-02T00:12:46.664514",
     "exception": false,
     "start_time": "2025-04-02T00:12:46.659167",
     "status": "completed"
    },
    "tags": []
   },
   "source": [
    "# Question 4\n",
    "\n",
    "Use the `get_cost()` function you defined in Question 3 to calculate the cost of applying one coat of paint to a room with:\n",
    "- 432 square feet of walls, and\n",
    "- 144 square feet of ceiling.\n",
    "\n",
    "Assume that one gallon of paint covers 400 square feet and costs $15.  As in Question 3, assume you can buy partial gallons of paint.  Do not round your answer."
   ]
  },
  {
   "cell_type": "code",
   "execution_count": 8,
   "id": "d69dbe13",
   "metadata": {
    "execution": {
     "iopub.execute_input": "2025-04-02T00:12:46.677369Z",
     "iopub.status.busy": "2025-04-02T00:12:46.676956Z",
     "iopub.status.idle": "2025-04-02T00:12:46.684401Z",
     "shell.execute_reply": "2025-04-02T00:12:46.683436Z"
    },
    "papermill": {
     "duration": 0.015669,
     "end_time": "2025-04-02T00:12:46.685974",
     "exception": false,
     "start_time": "2025-04-02T00:12:46.670305",
     "status": "completed"
    },
    "tags": []
   },
   "outputs": [
    {
     "data": {
      "application/javascript": [
       "parent.postMessage({\"jupyterEvent\": \"custom.exercise_interaction\", \"data\": {\"outcomeType\": 1, \"valueTowardsCompletion\": 0.2, \"interactionType\": 1, \"questionType\": 1, \"questionId\": \"4_GetCostPaintExample\", \"learnToolsVersion\": \"0.3.4\", \"failureMessage\": \"\", \"exceptionClass\": \"\", \"trace\": \"\"}}, \"*\")"
      ],
      "text/plain": [
       "<IPython.core.display.Javascript object>"
      ]
     },
     "metadata": {},
     "output_type": "display_data"
    },
    {
     "data": {
      "text/markdown": [
       "<span style=\"color:#33cc33\">Correct</span>"
      ],
      "text/plain": [
       "Correct"
      ]
     },
     "metadata": {},
     "output_type": "display_data"
    }
   ],
   "source": [
    "# TODO: Set the project_cost variable to the cost of the project\n",
    "project_cost =get_cost (432,144,400,15)\n",
    "# Check your answer\n",
    "q4.check()"
   ]
  },
  {
   "cell_type": "code",
   "execution_count": 9,
   "id": "a8162bb3",
   "metadata": {
    "execution": {
     "iopub.execute_input": "2025-04-02T00:12:46.699127Z",
     "iopub.status.busy": "2025-04-02T00:12:46.698782Z",
     "iopub.status.idle": "2025-04-02T00:12:46.702380Z",
     "shell.execute_reply": "2025-04-02T00:12:46.701427Z"
    },
    "papermill": {
     "duration": 0.011814,
     "end_time": "2025-04-02T00:12:46.703979",
     "exception": false,
     "start_time": "2025-04-02T00:12:46.692165",
     "status": "completed"
    },
    "tags": []
   },
   "outputs": [],
   "source": [
    "# Uncomment to see a hint\n",
    "#q4.hint()\n",
    "\n",
    "# Uncomment to view the solution\n",
    "#q4.solution()"
   ]
  },
  {
   "cell_type": "markdown",
   "id": "1b77147d",
   "metadata": {
    "papermill": {
     "duration": 0.006564,
     "end_time": "2025-04-02T00:12:46.716672",
     "exception": false,
     "start_time": "2025-04-02T00:12:46.710108",
     "status": "completed"
    },
    "tags": []
   },
   "source": [
    "# 🌶️ Question 5\n",
    "\n",
    "Now say you can no longer buy fractions of a gallon.  (For instance, if you need 4.3 gallons to do a project, then you have to buy 5 gallons of paint.)\n",
    "\n",
    "With this new scenario, you will create a new function `get_actual_cost` that uses the same inputs and calculates the cost of your project.\n",
    "\n",
    "One function that you'll need to use to do this is `math.ceil()`.  We demonstrate usage of this function in the code cell below.  It takes as a number as input and rounds the number up to the nearest integer.  \n",
    "\n",
    "Run the next code cell to test this function for yourself.  Feel free to change the value of `test_value` and make sure `math.ceil()` returns the number you expect."
   ]
  },
  {
   "cell_type": "code",
   "execution_count": 10,
   "id": "69d561ee",
   "metadata": {
    "execution": {
     "iopub.execute_input": "2025-04-02T00:12:46.729566Z",
     "iopub.status.busy": "2025-04-02T00:12:46.729179Z",
     "iopub.status.idle": "2025-04-02T00:12:46.734250Z",
     "shell.execute_reply": "2025-04-02T00:12:46.733214Z"
    },
    "papermill": {
     "duration": 0.013349,
     "end_time": "2025-04-02T00:12:46.735892",
     "exception": false,
     "start_time": "2025-04-02T00:12:46.722543",
     "status": "completed"
    },
    "tags": []
   },
   "outputs": [
    {
     "name": "stdout",
     "output_type": "stream",
     "text": [
      "3\n"
     ]
    }
   ],
   "source": [
    "test_value = 2.17\n",
    "\n",
    "rounded_value = math.ceil(test_value)\n",
    "print(rounded_value)"
   ]
  },
  {
   "cell_type": "markdown",
   "id": "a77332f4",
   "metadata": {
    "papermill": {
     "duration": 0.005629,
     "end_time": "2025-04-02T00:12:46.747752",
     "exception": false,
     "start_time": "2025-04-02T00:12:46.742123",
     "status": "completed"
    },
    "tags": []
   },
   "source": [
    "Use the next code cell to define the function `get_actual_cost()`.  You'll need to use the `math.ceil()` function to do this.\n",
    "\n",
    "When answering this question, note that it's completely valid to define a function that makes use of another function.  For instance, we can define a function `round_up_and_divide_by_three` that makes use of the `math.ceil` function:\n",
    "```\n",
    "def round_up_and_divide_by_three(num):\n",
    "    new_value = math.ceil(num)\n",
    "    final_value = new_value / 3\n",
    "    return final_value\n",
    "```"
   ]
  },
  {
   "cell_type": "code",
   "execution_count": 11,
   "id": "e7a1112c",
   "metadata": {
    "execution": {
     "iopub.execute_input": "2025-04-02T00:12:46.760676Z",
     "iopub.status.busy": "2025-04-02T00:12:46.760321Z",
     "iopub.status.idle": "2025-04-02T00:12:46.768413Z",
     "shell.execute_reply": "2025-04-02T00:12:46.767443Z"
    },
    "papermill": {
     "duration": 0.016325,
     "end_time": "2025-04-02T00:12:46.769870",
     "exception": false,
     "start_time": "2025-04-02T00:12:46.753545",
     "status": "completed"
    },
    "tags": []
   },
   "outputs": [
    {
     "data": {
      "application/javascript": [
       "parent.postMessage({\"jupyterEvent\": \"custom.exercise_interaction\", \"data\": {\"outcomeType\": 1, \"valueTowardsCompletion\": 0.2, \"interactionType\": 1, \"questionType\": 2, \"questionId\": \"5_NoMoreFractions\", \"learnToolsVersion\": \"0.3.4\", \"failureMessage\": \"\", \"exceptionClass\": \"\", \"trace\": \"\"}}, \"*\")"
      ],
      "text/plain": [
       "<IPython.core.display.Javascript object>"
      ]
     },
     "metadata": {},
     "output_type": "display_data"
    },
    {
     "data": {
      "text/markdown": [
       "<span style=\"color:#33cc33\">Correct</span>"
      ],
      "text/plain": [
       "Correct"
      ]
     },
     "metadata": {},
     "output_type": "display_data"
    }
   ],
   "source": [
    "def get_actual_cost(sqft_walls, sqft_ceiling, sqft_per_gallon, cost_per_gallon):\n",
    "    total_sqft = sqft_walls + sqft_ceiling\n",
    "    gallons_needed = total_sqft / sqft_per_gallon\n",
    "    gallons_to_buy = math.ceil(gallons_needed)\n",
    "    cost = cost_per_gallon * gallons_to_buy\n",
    "    return cost\n",
    "\n",
    "# Check your answer\n",
    "q5.check()"
   ]
  },
  {
   "cell_type": "code",
   "execution_count": 12,
   "id": "eec3174d",
   "metadata": {
    "execution": {
     "iopub.execute_input": "2025-04-02T00:12:46.783347Z",
     "iopub.status.busy": "2025-04-02T00:12:46.782934Z",
     "iopub.status.idle": "2025-04-02T00:12:46.786663Z",
     "shell.execute_reply": "2025-04-02T00:12:46.785691Z"
    },
    "papermill": {
     "duration": 0.012117,
     "end_time": "2025-04-02T00:12:46.788274",
     "exception": false,
     "start_time": "2025-04-02T00:12:46.776157",
     "status": "completed"
    },
    "tags": []
   },
   "outputs": [],
   "source": [
    "# Uncomment to see a hint\n",
    "#q5.hint()\n",
    "\n",
    "# Uncomment to view the solution\n",
    "#q5.solution()"
   ]
  },
  {
   "cell_type": "markdown",
   "id": "bab7216d",
   "metadata": {
    "papermill": {
     "duration": 0.00573,
     "end_time": "2025-04-02T00:12:46.800163",
     "exception": false,
     "start_time": "2025-04-02T00:12:46.794433",
     "status": "completed"
    },
    "tags": []
   },
   "source": [
    "Once your function is verified as correct, run the next code cell to calculate the updated cost of your project."
   ]
  },
  {
   "cell_type": "code",
   "execution_count": 13,
   "id": "2d739dde",
   "metadata": {
    "execution": {
     "iopub.execute_input": "2025-04-02T00:12:46.813875Z",
     "iopub.status.busy": "2025-04-02T00:12:46.813539Z",
     "iopub.status.idle": "2025-04-02T00:12:46.819088Z",
     "shell.execute_reply": "2025-04-02T00:12:46.818136Z"
    },
    "papermill": {
     "duration": 0.01399,
     "end_time": "2025-04-02T00:12:46.820617",
     "exception": false,
     "start_time": "2025-04-02T00:12:46.806627",
     "status": "completed"
    },
    "tags": []
   },
   "outputs": [
    {
     "data": {
      "text/plain": [
       "30"
      ]
     },
     "execution_count": 13,
     "metadata": {},
     "output_type": "execute_result"
    }
   ],
   "source": [
    "get_actual_cost(432, 144, 400, 15) "
   ]
  },
  {
   "cell_type": "markdown",
   "id": "0c4a23d1",
   "metadata": {
    "papermill": {
     "duration": 0.005847,
     "end_time": "2025-04-02T00:12:46.832688",
     "exception": false,
     "start_time": "2025-04-02T00:12:46.826841",
     "status": "completed"
    },
    "tags": []
   },
   "source": [
    "Say you're working with a slightly larger room.  Run the next code cell to calculate the cost of the project."
   ]
  },
  {
   "cell_type": "code",
   "execution_count": 14,
   "id": "8d72a979",
   "metadata": {
    "execution": {
     "iopub.execute_input": "2025-04-02T00:12:46.846275Z",
     "iopub.status.busy": "2025-04-02T00:12:46.845935Z",
     "iopub.status.idle": "2025-04-02T00:12:46.851535Z",
     "shell.execute_reply": "2025-04-02T00:12:46.850567Z"
    },
    "papermill": {
     "duration": 0.014206,
     "end_time": "2025-04-02T00:12:46.853104",
     "exception": false,
     "start_time": "2025-04-02T00:12:46.838898",
     "status": "completed"
    },
    "tags": []
   },
   "outputs": [
    {
     "data": {
      "text/plain": [
       "45"
      ]
     },
     "execution_count": 14,
     "metadata": {},
     "output_type": "execute_result"
    }
   ],
   "source": [
    "get_actual_cost(594, 288, 400, 15) "
   ]
  },
  {
   "cell_type": "markdown",
   "id": "c7489cc2",
   "metadata": {
    "papermill": {
     "duration": 0.006002,
     "end_time": "2025-04-02T00:12:46.865562",
     "exception": false,
     "start_time": "2025-04-02T00:12:46.859560",
     "status": "completed"
    },
    "tags": []
   },
   "source": [
    "# Keep going\n",
    "\n",
    "Continue to learn about **[data types](https://www.kaggle.com/alexisbcook/data-types)**."
   ]
  },
  {
   "cell_type": "markdown",
   "id": "6dd8f692",
   "metadata": {
    "papermill": {
     "duration": 0.0061,
     "end_time": "2025-04-02T00:12:46.877926",
     "exception": false,
     "start_time": "2025-04-02T00:12:46.871826",
     "status": "completed"
    },
    "tags": []
   },
   "source": [
    "---\n",
    "\n",
    "\n",
    "\n",
    "\n",
    "*Have questions or comments? Visit the [course discussion forum](https://www.kaggle.com/learn/intro-to-programming/discussion) to chat with other learners.*"
   ]
  }
 ],
 "metadata": {
  "kaggle": {
   "accelerator": "none",
   "dataSources": [],
   "isGpuEnabled": false,
   "isInternetEnabled": false,
   "language": "python",
   "sourceType": "notebook"
  },
  "kernelspec": {
   "display_name": "Python 3",
   "language": "python",
   "name": "python3"
  },
  "language_info": {
   "codemirror_mode": {
    "name": "ipython",
    "version": 3
   },
   "file_extension": ".py",
   "mimetype": "text/x-python",
   "name": "python",
   "nbconvert_exporter": "python",
   "pygments_lexer": "ipython3",
   "version": "3.10.12"
  },
  "papermill": {
   "default_parameters": {},
   "duration": 5.09514,
   "end_time": "2025-04-02T00:12:47.404547",
   "environment_variables": {},
   "exception": null,
   "input_path": "__notebook__.ipynb",
   "output_path": "__notebook__.ipynb",
   "parameters": {},
   "start_time": "2025-04-02T00:12:42.309407",
   "version": "2.6.0"
  }
 },
 "nbformat": 4,
 "nbformat_minor": 5
}
