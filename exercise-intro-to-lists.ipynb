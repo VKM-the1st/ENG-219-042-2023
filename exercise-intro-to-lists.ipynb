{
 "cells": [
  {
   "cell_type": "markdown",
   "id": "30cc3c80",
   "metadata": {
    "papermill": {
     "duration": 0.005954,
     "end_time": "2025-04-02T00:22:35.419590",
     "exception": false,
     "start_time": "2025-04-02T00:22:35.413636",
     "status": "completed"
    },
    "tags": []
   },
   "source": [
    "**This notebook is an exercise in the [Intro to Programming](https://www.kaggle.com/learn/intro-to-programming) course.  You can reference the tutorial at [this link](https://www.kaggle.com/alexisbcook/intro-to-lists).**\n",
    "\n",
    "---\n"
   ]
  },
  {
   "cell_type": "markdown",
   "id": "ef0ac0d9",
   "metadata": {
    "papermill": {
     "duration": 0.00568,
     "end_time": "2025-04-02T00:22:35.430833",
     "exception": false,
     "start_time": "2025-04-02T00:22:35.425153",
     "status": "completed"
    },
    "tags": []
   },
   "source": [
    "In the tutorial, you learned how to define and modify Python lists.  In this exercise, you will use your new knowledge to solve several problems.\n",
    "\n",
    "# Set up the notebook\n",
    "\n",
    "Run the next code cell without changes to set up the notebook."
   ]
  },
  {
   "cell_type": "code",
   "execution_count": 1,
   "id": "5a7d2bca",
   "metadata": {
    "execution": {
     "iopub.execute_input": "2025-04-02T00:22:35.443309Z",
     "iopub.status.busy": "2025-04-02T00:22:35.442860Z",
     "iopub.status.idle": "2025-04-02T00:22:36.562996Z",
     "shell.execute_reply": "2025-04-02T00:22:36.561513Z"
    },
    "papermill": {
     "duration": 1.128315,
     "end_time": "2025-04-02T00:22:36.564928",
     "exception": false,
     "start_time": "2025-04-02T00:22:35.436613",
     "status": "completed"
    },
    "tags": []
   },
   "outputs": [
    {
     "name": "stdout",
     "output_type": "stream",
     "text": [
      "Setup complete.\n"
     ]
    }
   ],
   "source": [
    "from learntools.core import binder\n",
    "binder.bind(globals())\n",
    "from learntools.intro_to_programming.ex5 import *\n",
    "print('Setup complete.')"
   ]
  },
  {
   "cell_type": "markdown",
   "id": "756bf6d3",
   "metadata": {
    "papermill": {
     "duration": 0.005097,
     "end_time": "2025-04-02T00:22:36.575842",
     "exception": false,
     "start_time": "2025-04-02T00:22:36.570745",
     "status": "completed"
    },
    "tags": []
   },
   "source": [
    "# Question 1\n",
    "\n",
    "You own a restaurant with five food dishes, organized in the Python list `menu` below.  One day, you decide to:\n",
    "- remove bean soup (`'bean soup'`) from the menu, and\n",
    "- add roasted beet salad (`'roasted beet salad'`) to the menu.\n",
    "\n",
    "Implement this change to the list below.  While completing this task, \n",
    "- do not change the line that creates the `menu` list.  \n",
    "- your answer should use `.remove()` and `.append()`.  "
   ]
  },
  {
   "cell_type": "code",
   "execution_count": 2,
   "id": "187bd98b",
   "metadata": {
    "execution": {
     "iopub.execute_input": "2025-04-02T00:22:36.588551Z",
     "iopub.status.busy": "2025-04-02T00:22:36.588052Z",
     "iopub.status.idle": "2025-04-02T00:22:36.599082Z",
     "shell.execute_reply": "2025-04-02T00:22:36.597766Z"
    },
    "papermill": {
     "duration": 0.019455,
     "end_time": "2025-04-02T00:22:36.600999",
     "exception": false,
     "start_time": "2025-04-02T00:22:36.581544",
     "status": "completed"
    },
    "tags": []
   },
   "outputs": [
    {
     "data": {
      "application/javascript": [
       "parent.postMessage({\"jupyterEvent\": \"custom.exercise_interaction\", \"data\": {\"outcomeType\": 1, \"valueTowardsCompletion\": 0.2, \"interactionType\": 1, \"questionType\": 2, \"questionId\": \"1_FoodMenu\", \"learnToolsVersion\": \"0.3.4\", \"failureMessage\": \"\", \"exceptionClass\": \"\", \"trace\": \"\"}}, \"*\")"
      ],
      "text/plain": [
       "<IPython.core.display.Javascript object>"
      ]
     },
     "metadata": {},
     "output_type": "display_data"
    },
    {
     "data": {
      "text/markdown": [
       "<span style=\"color:#33cc33\">Correct</span>"
      ],
      "text/plain": [
       "Correct"
      ]
     },
     "metadata": {},
     "output_type": "display_data"
    }
   ],
   "source": [
    "# Do not change: Initial menu for your restaurant\n",
    "menu = ['stewed meat with onions', 'bean soup', 'risotto with trout and shrimp',\n",
    "       'fish soup with cream and onion', 'gyro']\n",
    "menu.remove('bean soup')\n",
    "menu.append('roasted beet salad')\n",
    "\n",
    "# TODO: remove 'bean soup', and add 'roasted beet salad' to the end of the menu\n",
    "____\n",
    "\n",
    "# Do not change: Check your answer\n",
    "q1.check()"
   ]
  },
  {
   "cell_type": "code",
   "execution_count": 3,
   "id": "5aba0594",
   "metadata": {
    "execution": {
     "iopub.execute_input": "2025-04-02T00:22:36.614733Z",
     "iopub.status.busy": "2025-04-02T00:22:36.614343Z",
     "iopub.status.idle": "2025-04-02T00:22:36.618415Z",
     "shell.execute_reply": "2025-04-02T00:22:36.617237Z"
    },
    "papermill": {
     "duration": 0.013375,
     "end_time": "2025-04-02T00:22:36.620564",
     "exception": false,
     "start_time": "2025-04-02T00:22:36.607189",
     "status": "completed"
    },
    "tags": []
   },
   "outputs": [],
   "source": [
    "# Uncomment to see a hint\n",
    "#q1.hint()\n",
    "\n",
    "# Uncomment to see the solution\n",
    "#q1.solution()"
   ]
  },
  {
   "cell_type": "markdown",
   "id": "336c0bd7",
   "metadata": {
    "papermill": {
     "duration": 0.00535,
     "end_time": "2025-04-02T00:22:36.631748",
     "exception": false,
     "start_time": "2025-04-02T00:22:36.626398",
     "status": "completed"
    },
    "tags": []
   },
   "source": [
    "# Question 2\n",
    "\n",
    "The list `num_customers` contains the number of customers who came into your restaurant every day over the last month (which lasted thirty days).  Fill in values for each of the following:\n",
    "- `avg_first_seven` - average number of customers who visited in the first seven days\n",
    "- `avg_last_seven` - average number of customers who visited in the last seven days\n",
    "- `max_month` - number of customers on the day that got the most customers in the last month\n",
    "- `min_month` - number of customers on the day that got the least customers in the last month\n",
    "\n",
    "Answer this question by writing code.  For instance, if you have to find the minimum value in a list, use `min()` instead of scanning for the smallest value and directly filling in a number."
   ]
  },
  {
   "cell_type": "code",
   "execution_count": 4,
   "id": "616a82cb",
   "metadata": {
    "execution": {
     "iopub.execute_input": "2025-04-02T00:22:36.644382Z",
     "iopub.status.busy": "2025-04-02T00:22:36.643995Z",
     "iopub.status.idle": "2025-04-02T00:22:36.653157Z",
     "shell.execute_reply": "2025-04-02T00:22:36.652069Z"
    },
    "papermill": {
     "duration": 0.017528,
     "end_time": "2025-04-02T00:22:36.654964",
     "exception": false,
     "start_time": "2025-04-02T00:22:36.637436",
     "status": "completed"
    },
    "tags": []
   },
   "outputs": [
    {
     "data": {
      "application/javascript": [
       "parent.postMessage({\"jupyterEvent\": \"custom.exercise_interaction\", \"data\": {\"outcomeType\": 1, \"valueTowardsCompletion\": 0.2, \"interactionType\": 1, \"questionType\": 1, \"questionId\": \"2_NumCustomers\", \"learnToolsVersion\": \"0.3.4\", \"failureMessage\": \"\", \"exceptionClass\": \"\", \"trace\": \"\"}}, \"*\")"
      ],
      "text/plain": [
       "<IPython.core.display.Javascript object>"
      ]
     },
     "metadata": {},
     "output_type": "display_data"
    },
    {
     "data": {
      "text/markdown": [
       "<span style=\"color:#33cc33\">Correct</span>"
      ],
      "text/plain": [
       "Correct"
      ]
     },
     "metadata": {},
     "output_type": "display_data"
    }
   ],
   "source": [
    "# Do not change: Number of customers each day for the last month\n",
    "num_customers = [137, 147, 135, 128, 170, 174, 165, 146, 126, 159,\n",
    "                 141, 148, 132, 147, 168, 153, 170, 161, 148, 152,\n",
    "                 141, 151, 131, 149, 164, 163, 143, 143, 166, 171]\n",
    "\n",
    "# TODO: Fill in values for the variables below\n",
    "avg_first_seven = sum(num_customers[:7]) / 7\n",
    "avg_last_seven = sum(num_customers[-7:]) / 7\n",
    "max_month = max(num_customers)\n",
    "min_month = min(num_customers)\n",
    "\n",
    "# Do not change: Check your answer\n",
    "q2.check()"
   ]
  },
  {
   "cell_type": "code",
   "execution_count": 5,
   "id": "e437370d",
   "metadata": {
    "execution": {
     "iopub.execute_input": "2025-04-02T00:22:36.667875Z",
     "iopub.status.busy": "2025-04-02T00:22:36.667538Z",
     "iopub.status.idle": "2025-04-02T00:22:36.671103Z",
     "shell.execute_reply": "2025-04-02T00:22:36.670119Z"
    },
    "papermill": {
     "duration": 0.012005,
     "end_time": "2025-04-02T00:22:36.672770",
     "exception": false,
     "start_time": "2025-04-02T00:22:36.660765",
     "status": "completed"
    },
    "tags": []
   },
   "outputs": [],
   "source": [
    "# Uncomment to see a hint\n",
    "#q2.hint()\n",
    "\n",
    "# Uncomment to see the solution\n",
    "#q2.solution()"
   ]
  },
  {
   "cell_type": "markdown",
   "id": "25228b88",
   "metadata": {
    "papermill": {
     "duration": 0.005623,
     "end_time": "2025-04-02T00:22:36.684182",
     "exception": false,
     "start_time": "2025-04-02T00:22:36.678559",
     "status": "completed"
    },
    "tags": []
   },
   "source": [
    "# Question 3\n",
    "\n",
    "In the tutorial, we gave an example of a Python string with information that was better as a list."
   ]
  },
  {
   "cell_type": "code",
   "execution_count": 6,
   "id": "e9a2f61c",
   "metadata": {
    "execution": {
     "iopub.execute_input": "2025-04-02T00:22:36.698288Z",
     "iopub.status.busy": "2025-04-02T00:22:36.697924Z",
     "iopub.status.idle": "2025-04-02T00:22:36.702044Z",
     "shell.execute_reply": "2025-04-02T00:22:36.701121Z"
    },
    "papermill": {
     "duration": 0.013457,
     "end_time": "2025-04-02T00:22:36.703796",
     "exception": false,
     "start_time": "2025-04-02T00:22:36.690339",
     "status": "completed"
    },
    "tags": []
   },
   "outputs": [],
   "source": [
    "flowers = \"pink primrose,hard-leaved pocket orchid,canterbury bells,sweet pea,english marigold,tiger lily,moon orchid,bird of paradise,monkshood,globe thistle\""
   ]
  },
  {
   "cell_type": "markdown",
   "id": "9dd82e8a",
   "metadata": {
    "papermill": {
     "duration": 0.006317,
     "end_time": "2025-04-02T00:22:36.716462",
     "exception": false,
     "start_time": "2025-04-02T00:22:36.710145",
     "status": "completed"
    },
    "tags": []
   },
   "source": [
    "You can actually use Python to quickly turn this string into a list with `.split()`.  In the parentheses, we need to provide the character should be used to mark the end of one list item and the beginning of another, and enclose it in quotation marks.  In this case, that character is a comma."
   ]
  },
  {
   "cell_type": "code",
   "execution_count": 7,
   "id": "4a1fb27d",
   "metadata": {
    "execution": {
     "iopub.execute_input": "2025-04-02T00:22:36.731862Z",
     "iopub.status.busy": "2025-04-02T00:22:36.731496Z",
     "iopub.status.idle": "2025-04-02T00:22:36.736953Z",
     "shell.execute_reply": "2025-04-02T00:22:36.735681Z"
    },
    "papermill": {
     "duration": 0.014049,
     "end_time": "2025-04-02T00:22:36.738753",
     "exception": false,
     "start_time": "2025-04-02T00:22:36.724704",
     "status": "completed"
    },
    "tags": []
   },
   "outputs": [
    {
     "name": "stdout",
     "output_type": "stream",
     "text": [
      "['pink primrose', 'hard-leaved pocket orchid', 'canterbury bells', 'sweet pea', 'english marigold', 'tiger lily', 'moon orchid', 'bird of paradise', 'monkshood', 'globe thistle']\n"
     ]
    }
   ],
   "source": [
    " print(flowers.split(\",\"))"
   ]
  },
  {
   "cell_type": "markdown",
   "id": "7875f76e",
   "metadata": {
    "papermill": {
     "duration": 0.006892,
     "end_time": "2025-04-02T00:22:36.751577",
     "exception": false,
     "start_time": "2025-04-02T00:22:36.744685",
     "status": "completed"
    },
    "tags": []
   },
   "source": [
    "Now it is your turn to try this out!  Create two Python lists:\n",
    "- `letters` should be a Python list where each entry is an uppercase letter of the English alphabet.  For instance, the first two entries should be `\"A\"` and `\"B\"`, and the final two entries should be `\"Y\"` and `\"Z\"`.  Use the string `alphabet` to create this list.\n",
    "- `address` should be a Python list where each row in `address` is a different item in the list.  Currently, each row in `address` is separated by a comma. "
   ]
  },
  {
   "cell_type": "code",
   "execution_count": 8,
   "id": "79b64f6d",
   "metadata": {
    "execution": {
     "iopub.execute_input": "2025-04-02T00:22:36.764709Z",
     "iopub.status.busy": "2025-04-02T00:22:36.764364Z",
     "iopub.status.idle": "2025-04-02T00:22:36.772668Z",
     "shell.execute_reply": "2025-04-02T00:22:36.771548Z"
    },
    "papermill": {
     "duration": 0.016871,
     "end_time": "2025-04-02T00:22:36.774395",
     "exception": false,
     "start_time": "2025-04-02T00:22:36.757524",
     "status": "completed"
    },
    "tags": []
   },
   "outputs": [
    {
     "data": {
      "application/javascript": [
       "parent.postMessage({\"jupyterEvent\": \"custom.exercise_interaction\", \"data\": {\"outcomeType\": 1, \"valueTowardsCompletion\": 0.2, \"interactionType\": 1, \"questionType\": 1, \"questionId\": \"3_SplitString\", \"learnToolsVersion\": \"0.3.4\", \"failureMessage\": \"\", \"exceptionClass\": \"\", \"trace\": \"\"}}, \"*\")"
      ],
      "text/plain": [
       "<IPython.core.display.Javascript object>"
      ]
     },
     "metadata": {},
     "output_type": "display_data"
    },
    {
     "data": {
      "text/markdown": [
       "<span style=\"color:#33cc33\">Correct</span>"
      ],
      "text/plain": [
       "Correct"
      ]
     },
     "metadata": {},
     "output_type": "display_data"
    }
   ],
   "source": [
    "# DO not change: Define two Python strings\n",
    "alphabet = \"A.B.C.D.E.F.G.H.I.J.K.L.M.N.O.P.Q.R.S.T.U.V.W.X.Y.Z\"\n",
    "address = \"Mr. H. Potter,The cupboard under the Stairs,4 Privet Drive,Little Whinging,Surrey\"\n",
    "\n",
    "# TODO: Convert strings into Python lists\n",
    "letters = alphabet.split(\".\")\n",
    "formatted_address = address.split(\",\")\n",
    "\n",
    "# Do not change: Check your answer\n",
    "q3.check()"
   ]
  },
  {
   "cell_type": "code",
   "execution_count": 9,
   "id": "84589873",
   "metadata": {
    "execution": {
     "iopub.execute_input": "2025-04-02T00:22:36.788114Z",
     "iopub.status.busy": "2025-04-02T00:22:36.787709Z",
     "iopub.status.idle": "2025-04-02T00:22:36.791723Z",
     "shell.execute_reply": "2025-04-02T00:22:36.790749Z"
    },
    "papermill": {
     "duration": 0.012827,
     "end_time": "2025-04-02T00:22:36.793458",
     "exception": false,
     "start_time": "2025-04-02T00:22:36.780631",
     "status": "completed"
    },
    "tags": []
   },
   "outputs": [],
   "source": [
    "# Uncomment to see a hint\n",
    "#q3.hint()\n",
    "\n",
    "# Uncomment to see the solution\n",
    "#q3.solution()"
   ]
  },
  {
   "cell_type": "markdown",
   "id": "a2bc1625",
   "metadata": {
    "papermill": {
     "duration": 0.005702,
     "end_time": "2025-04-02T00:22:36.805290",
     "exception": false,
     "start_time": "2025-04-02T00:22:36.799588",
     "status": "completed"
    },
    "tags": []
   },
   "source": [
    "# Question 4\n",
    "\n",
    "In the Python course, you'll learn all about **list comprehensions**, which allow you to create a list based on the values in another list.  In this question, you'll get a brief preview of how they work.\n",
    "\n",
    "Say we're working with the list below."
   ]
  },
  {
   "cell_type": "code",
   "execution_count": 10,
   "id": "e0b064e5",
   "metadata": {
    "execution": {
     "iopub.execute_input": "2025-04-02T00:22:36.819037Z",
     "iopub.status.busy": "2025-04-02T00:22:36.818652Z",
     "iopub.status.idle": "2025-04-02T00:22:36.823387Z",
     "shell.execute_reply": "2025-04-02T00:22:36.822176Z"
    },
    "papermill": {
     "duration": 0.013881,
     "end_time": "2025-04-02T00:22:36.825264",
     "exception": false,
     "start_time": "2025-04-02T00:22:36.811383",
     "status": "completed"
    },
    "tags": []
   },
   "outputs": [],
   "source": [
    "test_ratings = [1, 2, 3, 4, 5]"
   ]
  },
  {
   "cell_type": "markdown",
   "id": "0035e58a",
   "metadata": {
    "papermill": {
     "duration": 0.005898,
     "end_time": "2025-04-02T00:22:36.837646",
     "exception": false,
     "start_time": "2025-04-02T00:22:36.831748",
     "status": "completed"
    },
    "tags": []
   },
   "source": [
    "Then we can use this list (`test_ratings`) to create a new list (`test_liked`) where each item has been turned into a boolean, depending on whether or not the item is greater than or equal to four."
   ]
  },
  {
   "cell_type": "code",
   "execution_count": 11,
   "id": "066d67b6",
   "metadata": {
    "execution": {
     "iopub.execute_input": "2025-04-02T00:22:36.851387Z",
     "iopub.status.busy": "2025-04-02T00:22:36.850988Z",
     "iopub.status.idle": "2025-04-02T00:22:36.856517Z",
     "shell.execute_reply": "2025-04-02T00:22:36.855121Z"
    },
    "papermill": {
     "duration": 0.014535,
     "end_time": "2025-04-02T00:22:36.858288",
     "exception": false,
     "start_time": "2025-04-02T00:22:36.843753",
     "status": "completed"
    },
    "tags": []
   },
   "outputs": [
    {
     "name": "stdout",
     "output_type": "stream",
     "text": [
      "[False, False, False, True, True]\n"
     ]
    }
   ],
   "source": [
    "test_liked = [i>=4 for i in test_ratings]\n",
    "print(test_liked)"
   ]
  },
  {
   "cell_type": "markdown",
   "id": "253c0bdc",
   "metadata": {
    "papermill": {
     "duration": 0.005991,
     "end_time": "2025-04-02T00:22:36.870507",
     "exception": false,
     "start_time": "2025-04-02T00:22:36.864516",
     "status": "completed"
    },
    "tags": []
   },
   "source": [
    "In this question, you'll use this list comprehension to define a function `percentage_liked()` that takes one argument as input:\n",
    "- `ratings`: list of ratings that people gave to a movie, where each rating is a number between 1-5, inclusive\n",
    "\n",
    "We say someone liked the movie, if they gave a rating of either 4 or 5.  Your function should return the percentage of people who liked the movie.\n",
    "\n",
    "For instance, if we supply a value of `[1, 2, 3, 4, 5, 4, 5, 1]`, then 50% (4/8) of the people liked the movie, and the function should return `0.5`.\n",
    "\n",
    "Part of the function has already been completed for you.  You need only use `list_liked` to calculate `percentage_liked`."
   ]
  },
  {
   "cell_type": "code",
   "execution_count": 12,
   "id": "2d6740c7",
   "metadata": {
    "execution": {
     "iopub.execute_input": "2025-04-02T00:22:36.884421Z",
     "iopub.status.busy": "2025-04-02T00:22:36.884027Z",
     "iopub.status.idle": "2025-04-02T00:22:36.893312Z",
     "shell.execute_reply": "2025-04-02T00:22:36.892202Z"
    },
    "papermill": {
     "duration": 0.018505,
     "end_time": "2025-04-02T00:22:36.895207",
     "exception": false,
     "start_time": "2025-04-02T00:22:36.876702",
     "status": "completed"
    },
    "tags": []
   },
   "outputs": [
    {
     "data": {
      "application/javascript": [
       "parent.postMessage({\"jupyterEvent\": \"custom.exercise_interaction\", \"data\": {\"outcomeType\": 1, \"valueTowardsCompletion\": 0.2, \"interactionType\": 1, \"questionType\": 2, \"questionId\": \"4_PercentageLiked\", \"learnToolsVersion\": \"0.3.4\", \"failureMessage\": \"\", \"exceptionClass\": \"\", \"trace\": \"\"}}, \"*\")"
      ],
      "text/plain": [
       "<IPython.core.display.Javascript object>"
      ]
     },
     "metadata": {},
     "output_type": "display_data"
    },
    {
     "data": {
      "text/markdown": [
       "<span style=\"color:#33cc33\">Correct</span>"
      ],
      "text/plain": [
       "Correct"
      ]
     },
     "metadata": {},
     "output_type": "display_data"
    }
   ],
   "source": [
    "\n",
    "def percentage_liked(ratings):\n",
    "    list_liked = [i>=4 for i in ratings]\n",
    "    # TODO: Complete the function\n",
    "    percentage_liked = [i >= 4 for i in ratings]\n",
    "    percentage_liked = sum(list_liked) / len(list_liked)\n",
    "    return percentage_liked\n",
    "\n",
    "# Do not change: should return 0.5\n",
    "percentage_liked([1, 2, 3, 4, 5, 4, 5, 1])\n",
    "\n",
    "# Do not change: Check your answer\n",
    "q4.check()"
   ]
  },
  {
   "cell_type": "code",
   "execution_count": 13,
   "id": "e1d90c18",
   "metadata": {
    "execution": {
     "iopub.execute_input": "2025-04-02T00:22:36.909415Z",
     "iopub.status.busy": "2025-04-02T00:22:36.909015Z",
     "iopub.status.idle": "2025-04-02T00:22:36.913193Z",
     "shell.execute_reply": "2025-04-02T00:22:36.911997Z"
    },
    "papermill": {
     "duration": 0.013534,
     "end_time": "2025-04-02T00:22:36.915189",
     "exception": false,
     "start_time": "2025-04-02T00:22:36.901655",
     "status": "completed"
    },
    "tags": []
   },
   "outputs": [],
   "source": [
    "# Uncomment to see a hint\n",
    "#q4.hint()\n",
    "\n",
    "# Uncomment to see the solution\n",
    "#q4.solution()"
   ]
  },
  {
   "cell_type": "markdown",
   "id": "a9eb486f",
   "metadata": {
    "papermill": {
     "duration": 0.006147,
     "end_time": "2025-04-02T00:22:36.927935",
     "exception": false,
     "start_time": "2025-04-02T00:22:36.921788",
     "status": "completed"
    },
    "tags": []
   },
   "source": [
    "# 🌶️ Question 5\n",
    " \n",
    "Say you're doing analytics for a website.  You need to write a function that returns the percentage growth in the total number of users relative to a specified number of years ago.\n",
    "\n",
    "Your function `percentage_growth()` should take two arguments as input:\n",
    "- `num_users` = Python list with the total number of users each year.  So `num_users[0]` is the total number of users in the first year, `num_users[1]` is the total number of users in the second year, and so on.  The final entry in the list gives the total number of users in the most recently completed year.\n",
    "- `yrs_ago` = number of years to go back in time when calculating the growth percentage\n",
    "\n",
    "For instance, say `num_users = [920344, 1043553, 1204334, 1458996, 1503323, 1593432, 1623463, 1843064, 1930992, 2001078]`.\n",
    "- if `yrs_ago = 1`, we want the function to return a value of about `0.036`. This corresponds to a percentage growth of approximately 3.6%, calculated as (2001078 - 1930992)/1930992.\n",
    "- if `years_ago = 7`, we would want to return approximately `0.66`.  This corresponds to a percentage growth of approximately 66%, calculated as (2001078 - 1204334)/1204334.\n",
    "\n",
    "Your coworker sent you a draft of a function, but it doesn't seem to be doing the correct calculation.  Can you figure out what has gone wrong and make the needed changes?"
   ]
  },
  {
   "cell_type": "code",
   "execution_count": 14,
   "id": "ffcb7640",
   "metadata": {
    "execution": {
     "iopub.execute_input": "2025-04-02T00:22:36.942293Z",
     "iopub.status.busy": "2025-04-02T00:22:36.941816Z",
     "iopub.status.idle": "2025-04-02T00:22:36.952952Z",
     "shell.execute_reply": "2025-04-02T00:22:36.951746Z"
    },
    "papermill": {
     "duration": 0.020223,
     "end_time": "2025-04-02T00:22:36.954694",
     "exception": false,
     "start_time": "2025-04-02T00:22:36.934471",
     "status": "completed"
    },
    "tags": []
   },
   "outputs": [
    {
     "name": "stdout",
     "output_type": "stream",
     "text": [
      "0.03629533421163837\n",
      "0.6615639847417742\n"
     ]
    },
    {
     "data": {
      "application/javascript": [
       "parent.postMessage({\"jupyterEvent\": \"custom.exercise_interaction\", \"data\": {\"outcomeType\": 1, \"valueTowardsCompletion\": 0.2, \"interactionType\": 1, \"questionType\": 2, \"questionId\": \"5_WebsiteAnalytics\", \"learnToolsVersion\": \"0.3.4\", \"failureMessage\": \"\", \"exceptionClass\": \"\", \"trace\": \"\"}}, \"*\")"
      ],
      "text/plain": [
       "<IPython.core.display.Javascript object>"
      ]
     },
     "metadata": {},
     "output_type": "display_data"
    },
    {
     "data": {
      "text/markdown": [
       "<span style=\"color:#33cc33\">Correct</span>"
      ],
      "text/plain": [
       "Correct"
      ]
     },
     "metadata": {},
     "output_type": "display_data"
    }
   ],
   "source": [
    "# TODO: Edit the function\n",
    "def percentage_growth(num_users, yrs_ago):\n",
    "    growth = (num_users[len(num_users)-1] - num_users[len(num_users)-yrs_ago-1])/num_users[len(num_users)-yrs_ago-1]\n",
    "    return growth\n",
    "\n",
    "# Do not change: Variable for calculating some test examples\n",
    "num_users_test = [920344, 1043553, 1204334, 1458996, 1503323, 1593432, 1623463, 1843064, 1930992, 2001078]\n",
    "\n",
    "# Do not change: Should return .036\n",
    "print(percentage_growth(num_users_test, 1))\n",
    "\n",
    "# Do not change: Should return 0.66\n",
    "print(percentage_growth(num_users_test, 7))\n",
    "\n",
    "# Do not change: Check your answer\n",
    "q5.check()"
   ]
  },
  {
   "cell_type": "code",
   "execution_count": 15,
   "id": "bb03baf4",
   "metadata": {
    "execution": {
     "iopub.execute_input": "2025-04-02T00:22:36.969478Z",
     "iopub.status.busy": "2025-04-02T00:22:36.969042Z",
     "iopub.status.idle": "2025-04-02T00:22:36.972865Z",
     "shell.execute_reply": "2025-04-02T00:22:36.971951Z"
    },
    "papermill": {
     "duration": 0.013046,
     "end_time": "2025-04-02T00:22:36.974565",
     "exception": false,
     "start_time": "2025-04-02T00:22:36.961519",
     "status": "completed"
    },
    "tags": []
   },
   "outputs": [],
   "source": [
    "# Uncomment to see a hint\n",
    "#q5.hint()\n",
    "\n",
    "# Uncomment to see the solution\n",
    "#q5.solution()"
   ]
  },
  {
   "cell_type": "markdown",
   "id": "7cfc51f1",
   "metadata": {
    "papermill": {
     "duration": 0.006449,
     "end_time": "2025-04-02T00:22:36.987880",
     "exception": false,
     "start_time": "2025-04-02T00:22:36.981431",
     "status": "completed"
    },
    "tags": []
   },
   "source": [
    "# Congratulations!\n",
    "\n",
    "Congratulations for finishing the Intro to Programming course!  You should be proud of your very first steps with learning programming.  As next steps, we recommend taking:\n",
    "- the **[Python course](http://www.kaggle.com/learn/python)**, and \n",
    "- the **[Intro to Machine Learning course](https://www.kaggle.com/learn/intro-to-machine-learning)**."
   ]
  },
  {
   "cell_type": "markdown",
   "id": "7910a6e6",
   "metadata": {
    "papermill": {
     "duration": 0.006923,
     "end_time": "2025-04-02T00:22:37.002173",
     "exception": false,
     "start_time": "2025-04-02T00:22:36.995250",
     "status": "completed"
    },
    "tags": []
   },
   "source": [
    "---\n",
    "\n",
    "\n",
    "\n",
    "\n",
    "*Have questions or comments? Visit the [course discussion forum](https://www.kaggle.com/learn/intro-to-programming/discussion) to chat with other learners.*"
   ]
  }
 ],
 "metadata": {
  "kaggle": {
   "accelerator": "none",
   "dataSources": [],
   "isGpuEnabled": false,
   "isInternetEnabled": true,
   "language": "python",
   "sourceType": "notebook"
  },
  "kernelspec": {
   "display_name": "Python 3",
   "language": "python",
   "name": "python3"
  },
  "language_info": {
   "codemirror_mode": {
    "name": "ipython",
    "version": 3
   },
   "file_extension": ".py",
   "mimetype": "text/x-python",
   "name": "python",
   "nbconvert_exporter": "python",
   "pygments_lexer": "ipython3",
   "version": "3.10.12"
  },
  "papermill": {
   "default_parameters": {},
   "duration": 5.15529,
   "end_time": "2025-04-02T00:22:37.629545",
   "environment_variables": {},
   "exception": null,
   "input_path": "__notebook__.ipynb",
   "output_path": "__notebook__.ipynb",
   "parameters": {},
   "start_time": "2025-04-02T00:22:32.474255",
   "version": "2.6.0"
  }
 },
 "nbformat": 4,
 "nbformat_minor": 5
}
